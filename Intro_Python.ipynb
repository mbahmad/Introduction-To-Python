{
 "cells": [
  {
   "cell_type": "markdown",
   "metadata": {},
   "source": [
    "# Introduction to Python\n",
    "\n",
    "In this tutorial, we will dive diretly into coding in versatile **python** language. Python can be used as **Calculator\"\n"
   ]
  },
  {
   "cell_type": "code",
   "execution_count": 1,
   "metadata": {},
   "outputs": [
    {
     "name": "stdout",
     "output_type": "stream",
     "text": [
      "0.625\n",
      "13\n",
      "-3\n",
      "40\n"
     ]
    }
   ],
   "source": [
    "print(5/8)\n",
    "print(5+8)\n",
    "print(5-8)\n",
    "print(5*8)"
   ]
  },
  {
   "cell_type": "code",
   "execution_count": 2,
   "metadata": {},
   "outputs": [
    {
     "name": "stdout",
     "output_type": "stream",
     "text": [
      "16\n",
      "4\n"
     ]
    }
   ],
   "source": [
    "# This is a comment line\n",
    "# Exponentiation\n",
    "print(4 ** 2)\n",
    "\n",
    "# Modulo\n",
    "print(18 % 7)\n",
    "\n"
   ]
  },
  {
   "cell_type": "code",
   "execution_count": 3,
   "metadata": {},
   "outputs": [
    {
     "name": "stdout",
     "output_type": "stream",
     "text": [
      "194.87171000000012\n"
     ]
    }
   ],
   "source": [
    "# How much is your $100 worth after 7 years? with compound interest rate of 10 %\n",
    "print(100*1.1**7)"
   ]
  },
  {
   "cell_type": "markdown",
   "metadata": {},
   "source": [
    "# Variables\n",
    "\n",
    "- Names are Case-sensitive\n",
    "- Types of primitive data types\n",
    "    - int\n",
    "    - float\n",
    "    - string\n",
    "    - boolean"
   ]
  },
  {
   "cell_type": "code",
   "execution_count": 4,
   "metadata": {},
   "outputs": [],
   "source": [
    "# Creating a variable and assigned value: int\n",
    "savings = 1000"
   ]
  },
  {
   "cell_type": "code",
   "execution_count": 5,
   "metadata": {},
   "outputs": [
    {
     "name": "stdout",
     "output_type": "stream",
     "text": [
      "1948.7171000000012\n"
     ]
    }
   ],
   "source": [
    "# Create a variable factor: float\n",
    "growth_multiplier = 1.10\n",
    "\n",
    "# Calculate result\n",
    "result = savings*growth_multiplier**7\n",
    "print(result)"
   ]
  },
  {
   "cell_type": "code",
   "execution_count": 6,
   "metadata": {},
   "outputs": [],
   "source": [
    "# String and Boolean data types\n",
    "# Create a variable desc: string\n",
    "desc = \"compound interest\"\n",
    "\n",
    "# Create a variable profitable: Boolean\n",
    "profitable = True"
   ]
  },
  {
   "cell_type": "code",
   "execution_count": 7,
   "metadata": {},
   "outputs": [
    {
     "name": "stdout",
     "output_type": "stream",
     "text": [
      "<class 'int'>\n",
      "<class 'float'>\n",
      "<class 'float'>\n",
      "<class 'str'>\n",
      "<class 'bool'>\n"
     ]
    }
   ],
   "source": [
    "# To check type of variables\n",
    "print(type(savings))\n",
    "print(type(growth_multiplier))\n",
    "print(type(result))\n",
    "print(type(desc))\n",
    "print(type(profitable))\n",
    "\n"
   ]
  },
  {
   "cell_type": "code",
   "execution_count": 8,
   "metadata": {},
   "outputs": [
    {
     "name": "stdout",
     "output_type": "stream",
     "text": [
      "<class 'float'>\n",
      "compound interestcompound interest\n"
     ]
    }
   ],
   "source": [
    "# Several variables to experiment with\n",
    "savings = 100\n",
    "growth_multiplier = 1.1\n",
    "desc = \"compound interest\"\n",
    "\n",
    "# Assign product of factor and savings to year1\n",
    "year1 = savings*growth_multiplier\n",
    "\n",
    "# Print the type of year1\n",
    "print(type(year1))\n",
    "\n",
    "# Assign sum of desc and desc to doubledesc\n",
    "doubledesc = desc + desc\n",
    "\n",
    "# Print out doubledesc\n",
    "print(doubledesc)"
   ]
  },
  {
   "cell_type": "markdown",
   "metadata": {},
   "source": [
    "## Type conversion"
   ]
  },
  {
   "cell_type": "code",
   "execution_count": 9,
   "metadata": {},
   "outputs": [
    {
     "name": "stdout",
     "output_type": "stream",
     "text": [
      "I started with $100 and now have $194.87171000000012. Awesome!\n"
     ]
    }
   ],
   "source": [
    "# Definition of savings and result\n",
    "savings = 100\n",
    "result = 100 * 1.10 ** 7\n",
    "\n",
    "# Fix the printout\n",
    "print(\"I started with $\" + str(savings) + \" and now have $\" + str(result) + \". Awesome!\")\n",
    "\n",
    "# Definition of pi_string\n",
    "pi_string = \"3.1415926\"\n",
    "\n",
    "# Convert pi_string into float: pi_float\n",
    "pi_float = float(pi_string)"
   ]
  },
  {
   "cell_type": "markdown",
   "metadata": {},
   "source": [
    "# Chapter 2: Lists\n",
    "\n",
    "To store more than one data of different types, lists are used. Lists can also contain lists."
   ]
  },
  {
   "cell_type": "code",
   "execution_count": 10,
   "metadata": {},
   "outputs": [
    {
     "name": "stdout",
     "output_type": "stream",
     "text": [
      "[11.25, 18.0, 20.0, 10.75, 9.5]\n"
     ]
    }
   ],
   "source": [
    "# Creating a list\n",
    "# area variables (in square meters)\n",
    "hall = 11.25\n",
    "kit = 18.0\n",
    "liv = 20.0\n",
    "bed = 10.75\n",
    "bath = 9.50\n",
    "\n",
    "# Create list areas\n",
    "areas = [hall, kit, liv, bed, bath]\n",
    "\n",
    "# Print areas\n",
    "print(areas)\n"
   ]
  },
  {
   "cell_type": "code",
   "execution_count": 11,
   "metadata": {},
   "outputs": [
    {
     "name": "stdout",
     "output_type": "stream",
     "text": [
      "['hallway', 11.25, 'kitchen', 18.0, 'living room', 20.0, 'bedroom', 10.75, 'bathroom', 9.5]\n"
     ]
    }
   ],
   "source": [
    "# Creating list with different data types\n",
    "# area variables (in square meters)\n",
    "hall = 11.25\n",
    "kit = 18.0\n",
    "liv = 20.0\n",
    "bed = 10.75\n",
    "bath = 9.50\n",
    "\n",
    "# Adapt list areas\n",
    "areas = [\"hallway\", hall, \"kitchen\", kit, \"living room\", liv, \"bedroom\", bed, \"bathroom\", bath]\n",
    "\n",
    "# Print areas\n",
    "print(areas)"
   ]
  },
  {
   "cell_type": "code",
   "execution_count": 12,
   "metadata": {},
   "outputs": [
    {
     "name": "stdout",
     "output_type": "stream",
     "text": [
      "[['hallway', 11.25], ['kitchen', 18.0], ['living room', 20.0], ['bedroom', 10.75], ['bathroom', 9.5]]\n",
      "<class 'list'>\n"
     ]
    }
   ],
   "source": [
    "# List of Lists\n",
    "\n",
    "\n",
    "# area variables (in square meters)\n",
    "hall = 11.25\n",
    "kit = 18.0\n",
    "liv = 20.0\n",
    "bed = 10.75\n",
    "bath = 9.50\n",
    "\n",
    "# house information as list of lists\n",
    "house = [[\"hallway\", hall],\n",
    "         [\"kitchen\", kit],\n",
    "         [\"living room\", liv],\n",
    "         [\"bedroom\", bed],\n",
    "         [\"bathroom\", bath]]\n",
    "\n",
    "# Print out house\n",
    "print(house)\n",
    "\n",
    "# Print out the type of house\n",
    "print(type(house))"
   ]
  },
  {
   "cell_type": "markdown",
   "metadata": {},
   "source": [
    "# Subsetting lists\n",
    "# Lists index are zero-based. That's mean that the first element has index 0\n"
   ]
  },
  {
   "cell_type": "code",
   "execution_count": 13,
   "metadata": {},
   "outputs": [
    {
     "name": "stdout",
     "output_type": "stream",
     "text": [
      "11.25\n",
      "9.5\n",
      "20.0\n"
     ]
    }
   ],
   "source": [
    "# Create the areas list\n",
    "areas = [\"hallway\", 11.25, \"kitchen\", 18.0, \"living room\", 20.0, \"bedroom\", 10.75, \"bathroom\", 9.50]\n",
    "\n",
    "# Print out second element from areas\n",
    "print(areas[1])\n",
    "\n",
    "# Print out last element from areas\n",
    "print(areas[-1])\n",
    "\n",
    "# Print out the area of the living room\n",
    "print(areas[5])"
   ]
  },
  {
   "cell_type": "code",
   "execution_count": 14,
   "metadata": {},
   "outputs": [
    {
     "name": "stdout",
     "output_type": "stream",
     "text": [
      "28.75\n"
     ]
    }
   ],
   "source": [
    "# Create the areas list\n",
    "areas = [\"hallway\", 11.25, \"kitchen\", 18.0, \"living room\", 20.0, \"bedroom\", 10.75, \"bathroom\", 9.50]\n",
    "\n",
    "# Sum of kitchen and bedroom area: eat_sleep_area\n",
    "eat_sleep_area = areas[3] + areas[7]\n",
    "\n",
    "# Print the variable eat_sleep_area\n",
    "print(eat_sleep_area)"
   ]
  },
  {
   "cell_type": "markdown",
   "metadata": {},
   "source": [
    "# Slicing and dicing"
   ]
  },
  {
   "cell_type": "code",
   "execution_count": 15,
   "metadata": {},
   "outputs": [
    {
     "name": "stdout",
     "output_type": "stream",
     "text": [
      "['hallway', 11.25, 'kitchen', 18.0, 'living room', 20.0]\n",
      "['bedroom', 10.75, 'bathroom', 9.5]\n"
     ]
    }
   ],
   "source": [
    "# Create the areas list\n",
    "areas = [\"hallway\", 11.25, \"kitchen\", 18.0, \"living room\", 20.0, \"bedroom\", 10.75, \"bathroom\", 9.50]\n",
    "\n",
    "# Use slicing to create downstairs\n",
    "downstairs = areas[0:6]\n",
    "\n",
    "# Use slicing to create upstairs\n",
    "upstairs = areas[-4:]\n",
    "\n",
    "# Print out downstairs and upstairs\n",
    "print(downstairs)\n",
    "print(upstairs)"
   ]
  },
  {
   "cell_type": "code",
   "execution_count": 16,
   "metadata": {},
   "outputs": [],
   "source": [
    "# Create the areas list\n",
    "areas = [\"hallway\", 11.25, \"kitchen\", 18.0, \"living room\", 20.0, \"bedroom\", 10.75, \"bathroom\", 9.50]\n",
    "\n",
    "# Alternative slicing to create downstairs\n",
    "downstairs = areas[:6]\n",
    "\n",
    "# Alternative slicing to create upstairs\n",
    "upstairs = areas[-4:]"
   ]
  },
  {
   "cell_type": "code",
   "execution_count": 17,
   "metadata": {},
   "outputs": [],
   "source": [
    "house = [['hallway', 11.25],\n",
    " ['kitchen', 18.0],\n",
    " ['living room', 20.0],\n",
    " ['bedroom', 10.75],\n",
    " ['bathroom', 9.5]]"
   ]
  },
  {
   "cell_type": "code",
   "execution_count": 18,
   "metadata": {},
   "outputs": [
    {
     "data": {
      "text/plain": [
       "9.5"
      ]
     },
     "execution_count": 18,
     "metadata": {},
     "output_type": "execute_result"
    }
   ],
   "source": [
    "house[-1][1]"
   ]
  },
  {
   "cell_type": "markdown",
   "metadata": {},
   "source": [
    "# List Manipulation\n",
    "- Change list elements\n",
    "- add list elements\n",
    "- delete list elements"
   ]
  },
  {
   "cell_type": "code",
   "execution_count": 19,
   "metadata": {},
   "outputs": [],
   "source": [
    "# Replace list elements\n",
    "# Create the areas list\n",
    "areas = [\"hallway\", 11.25, \"kitchen\", 18.0, \"living room\", 20.0, \"bedroom\", 10.75, \"bathroom\", 9.50]\n",
    "\n",
    "# Correct the bathroom area\n",
    "areas[-1] = 10.50\n",
    "\n",
    "# Change \"living room\" to \"chill zone\"\n",
    "areas[4] = \"chill zone\""
   ]
  },
  {
   "cell_type": "code",
   "execution_count": 20,
   "metadata": {},
   "outputs": [
    {
     "data": {
      "text/plain": [
       "['hallway',\n",
       " 11.25,\n",
       " 'kitchen',\n",
       " 18.0,\n",
       " 'chill zone',\n",
       " 20.0,\n",
       " 'bedroom',\n",
       " 10.75,\n",
       " 'bathroom',\n",
       " 10.5]"
      ]
     },
     "execution_count": 20,
     "metadata": {},
     "output_type": "execute_result"
    }
   ],
   "source": [
    "areas"
   ]
  },
  {
   "cell_type": "markdown",
   "metadata": {},
   "source": [
    "# Extend a list"
   ]
  },
  {
   "cell_type": "code",
   "execution_count": 21,
   "metadata": {},
   "outputs": [],
   "source": [
    "# Create the areas list and make some changes\n",
    "areas = [\"hallway\", 11.25, \"kitchen\", 18.0, \"chill zone\", 20.0, \n",
    "         \"bedroom\", 10.75, \"bathroom\", 10.50]\n",
    "\n",
    "# Add poolhouse data to areas, new list is areas_1\n",
    "areas_1 = areas + [\"poolhouse\", 24.5]\n",
    "\n",
    "# Add garage data to areas_1, new list is areas_2\n",
    "areas_2 = areas_1 + [\"garage\", 15.45]"
   ]
  },
  {
   "cell_type": "code",
   "execution_count": 22,
   "metadata": {},
   "outputs": [
    {
     "name": "stdout",
     "output_type": "stream",
     "text": [
      "['hallway', 11.25, 'kitchen', 18.0, 'chill zone', 20.0, 'bedroom', 10.75, 'bathroom', 10.5]\n",
      "['hallway', 11.25, 'kitchen', 18.0, 'chill zone', 20.0, 'bedroom', 10.75, 'bathroom', 10.5, 'poolhouse', 24.5]\n",
      "['hallway', 11.25, 'kitchen', 18.0, 'chill zone', 20.0, 'bedroom', 10.75, 'bathroom', 10.5, 'poolhouse', 24.5, 'garage', 15.45]\n"
     ]
    }
   ],
   "source": [
    "print(areas)\n",
    "print(areas_1)\n",
    "print(areas_2)"
   ]
  },
  {
   "cell_type": "markdown",
   "metadata": {},
   "source": [
    "# Delete List Elements"
   ]
  },
  {
   "cell_type": "code",
   "execution_count": 23,
   "metadata": {},
   "outputs": [],
   "source": [
    "areas = [\"hallway\", 11.25, \"kitchen\", 18.0,\n",
    "        \"chill zone\", 20.0, \"bedroom\", 10.75,\n",
    "         \"bathroom\", 10.50, \"poolhouse\", 24.5,\n",
    "         \"garage\", 15.45]"
   ]
  },
  {
   "cell_type": "code",
   "execution_count": 24,
   "metadata": {},
   "outputs": [],
   "source": [
    "del(areas[-4:-2])"
   ]
  },
  {
   "cell_type": "code",
   "execution_count": 25,
   "metadata": {},
   "outputs": [
    {
     "name": "stdout",
     "output_type": "stream",
     "text": [
      "['hallway', 11.25, 'kitchen', 18.0, 'chill zone', 20.0, 'bedroom', 10.75, 'bathroom', 10.5, 'garage', 15.45]\n"
     ]
    }
   ],
   "source": [
    "print(areas)"
   ]
  },
  {
   "cell_type": "markdown",
   "metadata": {},
   "source": [
    "# Inner working of Lists"
   ]
  },
  {
   "cell_type": "code",
   "execution_count": 26,
   "metadata": {},
   "outputs": [
    {
     "name": "stdout",
     "output_type": "stream",
     "text": [
      "[11.25, 18.0, 20.0, 10.75, 9.5]\n"
     ]
    }
   ],
   "source": [
    "# Create list areas\n",
    "areas = [11.25, 18.0, 20.0, 10.75, 9.50]\n",
    "\n",
    "# Create areas_copy\n",
    "areas_copy = areas[:]\n",
    "\n",
    "# Change areas_copy\n",
    "areas_copy[0] = 5.0\n",
    "\n",
    "# Print areas\n",
    "print(areas)"
   ]
  },
  {
   "cell_type": "markdown",
   "metadata": {},
   "source": [
    "# Functions\n",
    "- Functions are reusable code\n"
   ]
  },
  {
   "cell_type": "code",
   "execution_count": 27,
   "metadata": {},
   "outputs": [
    {
     "data": {
      "text/plain": [
       "20.0"
      ]
     },
     "execution_count": 27,
     "metadata": {},
     "output_type": "execute_result"
    }
   ],
   "source": [
    "areas = [11.25, 18.0, 20.0, 10.75, 9.50]\n",
    "max(areas)"
   ]
  },
  {
   "cell_type": "code",
   "execution_count": 28,
   "metadata": {},
   "outputs": [
    {
     "data": {
      "text/plain": [
       "1.7"
      ]
     },
     "execution_count": 28,
     "metadata": {},
     "output_type": "execute_result"
    }
   ],
   "source": [
    "round(1.68,1)"
   ]
  },
  {
   "cell_type": "code",
   "execution_count": 29,
   "metadata": {},
   "outputs": [
    {
     "data": {
      "text/plain": [
       "2"
      ]
     },
     "execution_count": 29,
     "metadata": {},
     "output_type": "execute_result"
    }
   ],
   "source": [
    "round(1.68)"
   ]
  },
  {
   "cell_type": "code",
   "execution_count": 30,
   "metadata": {},
   "outputs": [
    {
     "name": "stdout",
     "output_type": "stream",
     "text": [
      "Help on built-in function round in module builtins:\n",
      "\n",
      "round(...)\n",
      "    round(number[, ndigits]) -> number\n",
      "    \n",
      "    Round a number to a given precision in decimal digits (default 0 digits).\n",
      "    This returns an int when called with one argument, otherwise the\n",
      "    same type as the number. ndigits may be negative.\n",
      "\n"
     ]
    }
   ],
   "source": [
    "help(round)"
   ]
  },
  {
   "cell_type": "code",
   "execution_count": 31,
   "metadata": {},
   "outputs": [
    {
     "data": {
      "text/plain": [
       "2.0"
      ]
     },
     "execution_count": 31,
     "metadata": {},
     "output_type": "execute_result"
    }
   ],
   "source": [
    "round(1.68,0)"
   ]
  },
  {
   "cell_type": "markdown",
   "metadata": {},
   "source": [
    "# Familiar functions"
   ]
  },
  {
   "cell_type": "code",
   "execution_count": 32,
   "metadata": {},
   "outputs": [
    {
     "name": "stdout",
     "output_type": "stream",
     "text": [
      "<class 'list'>\n",
      "4\n"
     ]
    }
   ],
   "source": [
    "# Create variables var1 and var2\n",
    "var1 = [1, 2, 3, 4]\n",
    "var2 = True\n",
    "\n",
    "# Print out type of var1\n",
    "print(type(var1))\n",
    "\n",
    "# Print out length of var1\n",
    "print(len(var1))\n",
    "\n",
    "# Convert var2 to an integer: out2\n",
    "out2 = int(var2)"
   ]
  },
  {
   "cell_type": "code",
   "execution_count": 33,
   "metadata": {},
   "outputs": [
    {
     "name": "stdout",
     "output_type": "stream",
     "text": [
      "Help on built-in function max in module builtins:\n",
      "\n",
      "max(...)\n",
      "    max(iterable, *[, default=obj, key=func]) -> value\n",
      "    max(arg1, arg2, *args, *[, key=func]) -> value\n",
      "    \n",
      "    With a single iterable argument, return its biggest item. The\n",
      "    default keyword-only argument specifies an object to return if\n",
      "    the provided iterable is empty.\n",
      "    With two or more arguments, return the largest argument.\n",
      "\n"
     ]
    }
   ],
   "source": [
    "help(max)"
   ]
  },
  {
   "cell_type": "code",
   "execution_count": 34,
   "metadata": {},
   "outputs": [
    {
     "name": "stdout",
     "output_type": "stream",
     "text": [
      "Help on class complex in module builtins:\n",
      "\n",
      "class complex(object)\n",
      " |  complex(real[, imag]) -> complex number\n",
      " |  \n",
      " |  Create a complex number from a real part and an optional imaginary part.\n",
      " |  This is equivalent to (real + imag*1j) where imag defaults to 0.\n",
      " |  \n",
      " |  Methods defined here:\n",
      " |  \n",
      " |  __abs__(self, /)\n",
      " |      abs(self)\n",
      " |  \n",
      " |  __add__(self, value, /)\n",
      " |      Return self+value.\n",
      " |  \n",
      " |  __bool__(self, /)\n",
      " |      self != 0\n",
      " |  \n",
      " |  __divmod__(self, value, /)\n",
      " |      Return divmod(self, value).\n",
      " |  \n",
      " |  __eq__(self, value, /)\n",
      " |      Return self==value.\n",
      " |  \n",
      " |  __float__(self, /)\n",
      " |      float(self)\n",
      " |  \n",
      " |  __floordiv__(self, value, /)\n",
      " |      Return self//value.\n",
      " |  \n",
      " |  __format__(...)\n",
      " |      complex.__format__() -> str\n",
      " |      \n",
      " |      Convert to a string according to format_spec.\n",
      " |  \n",
      " |  __ge__(self, value, /)\n",
      " |      Return self>=value.\n",
      " |  \n",
      " |  __getattribute__(self, name, /)\n",
      " |      Return getattr(self, name).\n",
      " |  \n",
      " |  __getnewargs__(...)\n",
      " |  \n",
      " |  __gt__(self, value, /)\n",
      " |      Return self>value.\n",
      " |  \n",
      " |  __hash__(self, /)\n",
      " |      Return hash(self).\n",
      " |  \n",
      " |  __int__(self, /)\n",
      " |      int(self)\n",
      " |  \n",
      " |  __le__(self, value, /)\n",
      " |      Return self<=value.\n",
      " |  \n",
      " |  __lt__(self, value, /)\n",
      " |      Return self<value.\n",
      " |  \n",
      " |  __mod__(self, value, /)\n",
      " |      Return self%value.\n",
      " |  \n",
      " |  __mul__(self, value, /)\n",
      " |      Return self*value.\n",
      " |  \n",
      " |  __ne__(self, value, /)\n",
      " |      Return self!=value.\n",
      " |  \n",
      " |  __neg__(self, /)\n",
      " |      -self\n",
      " |  \n",
      " |  __new__(*args, **kwargs) from builtins.type\n",
      " |      Create and return a new object.  See help(type) for accurate signature.\n",
      " |  \n",
      " |  __pos__(self, /)\n",
      " |      +self\n",
      " |  \n",
      " |  __pow__(self, value, mod=None, /)\n",
      " |      Return pow(self, value, mod).\n",
      " |  \n",
      " |  __radd__(self, value, /)\n",
      " |      Return value+self.\n",
      " |  \n",
      " |  __rdivmod__(self, value, /)\n",
      " |      Return divmod(value, self).\n",
      " |  \n",
      " |  __repr__(self, /)\n",
      " |      Return repr(self).\n",
      " |  \n",
      " |  __rfloordiv__(self, value, /)\n",
      " |      Return value//self.\n",
      " |  \n",
      " |  __rmod__(self, value, /)\n",
      " |      Return value%self.\n",
      " |  \n",
      " |  __rmul__(self, value, /)\n",
      " |      Return value*self.\n",
      " |  \n",
      " |  __rpow__(self, value, mod=None, /)\n",
      " |      Return pow(value, self, mod).\n",
      " |  \n",
      " |  __rsub__(self, value, /)\n",
      " |      Return value-self.\n",
      " |  \n",
      " |  __rtruediv__(self, value, /)\n",
      " |      Return value/self.\n",
      " |  \n",
      " |  __str__(self, /)\n",
      " |      Return str(self).\n",
      " |  \n",
      " |  __sub__(self, value, /)\n",
      " |      Return self-value.\n",
      " |  \n",
      " |  __truediv__(self, value, /)\n",
      " |      Return self/value.\n",
      " |  \n",
      " |  conjugate(...)\n",
      " |      complex.conjugate() -> complex\n",
      " |      \n",
      " |      Return the complex conjugate of its argument. (3-4j).conjugate() == 3+4j.\n",
      " |  \n",
      " |  ----------------------------------------------------------------------\n",
      " |  Data descriptors defined here:\n",
      " |  \n",
      " |  imag\n",
      " |      the imaginary part of a complex number\n",
      " |  \n",
      " |  real\n",
      " |      the real part of a complex number\n",
      "\n"
     ]
    }
   ],
   "source": [
    "help(complex)"
   ]
  },
  {
   "cell_type": "markdown",
   "metadata": {},
   "source": [
    "# Multiple arguements"
   ]
  },
  {
   "cell_type": "code",
   "execution_count": 35,
   "metadata": {},
   "outputs": [
    {
     "name": "stdout",
     "output_type": "stream",
     "text": [
      "[20.0, 18.0, 11.25, 10.75, 9.5]\n"
     ]
    }
   ],
   "source": [
    "# Create lists first and second\n",
    "first = [11.25, 18.0, 20.0]\n",
    "second = [10.75, 9.50]\n",
    "\n",
    "# Paste together first and second: full\n",
    "full = first + second\n",
    "\n",
    "# Sort full in descending order: full_sorted\n",
    "full_sorted = sorted(full, reverse = True)\n",
    "\n",
    "# Print out full_sorted\n",
    "print(full_sorted)"
   ]
  },
  {
   "cell_type": "markdown",
   "metadata": {},
   "source": [
    "# Methods\n",
    "Methods are functions that belong to objects only"
   ]
  },
  {
   "cell_type": "code",
   "execution_count": 36,
   "metadata": {},
   "outputs": [
    {
     "data": {
      "text/plain": [
       "'Liz'"
      ]
     },
     "execution_count": 36,
     "metadata": {},
     "output_type": "execute_result"
    }
   ],
   "source": [
    "sister = \"liz\"\n",
    "sister.capitalize()"
   ]
  },
  {
   "cell_type": "code",
   "execution_count": 37,
   "metadata": {},
   "outputs": [
    {
     "data": {
      "text/plain": [
       "'lis'"
      ]
     },
     "execution_count": 37,
     "metadata": {},
     "output_type": "execute_result"
    }
   ],
   "source": [
    "sister.replace('z','s')"
   ]
  },
  {
   "cell_type": "code",
   "execution_count": 38,
   "metadata": {},
   "outputs": [],
   "source": [
    "height = 1.73\n",
    "# bit_length method is not available \n",
    "# height.bit_length()"
   ]
  },
  {
   "cell_type": "code",
   "execution_count": 39,
   "metadata": {},
   "outputs": [
    {
     "data": {
      "text/plain": [
       "1.73"
      ]
     },
     "execution_count": 39,
     "metadata": {},
     "output_type": "execute_result"
    }
   ],
   "source": [
    "height.conjugate()"
   ]
  },
  {
   "cell_type": "code",
   "execution_count": 40,
   "metadata": {},
   "outputs": [
    {
     "data": {
      "text/plain": [
       "False"
      ]
     },
     "execution_count": 40,
     "metadata": {},
     "output_type": "execute_result"
    }
   ],
   "source": [
    "height.is_integer()"
   ]
  },
  {
   "cell_type": "code",
   "execution_count": 41,
   "metadata": {},
   "outputs": [
    {
     "data": {
      "text/plain": [
       "'0x1.bae147ae147aep+0'"
      ]
     },
     "execution_count": 41,
     "metadata": {},
     "output_type": "execute_result"
    }
   ],
   "source": [
    "height.hex()"
   ]
  },
  {
   "cell_type": "code",
   "execution_count": 42,
   "metadata": {},
   "outputs": [
    {
     "name": "stdout",
     "output_type": "stream",
     "text": [
      "2\n",
      "1\n",
      "None\n"
     ]
    }
   ],
   "source": [
    "# Methods of list\n",
    "areas = [\"hallway\", 11.25, \"kitchen\", 18.0, \"living room\", 20.0, \"bedroom\", 10.75, \"bathroom\", 9.50]\n",
    "print(areas.index(\"kitchen\"))\n",
    "print(areas.count(11.25))\n",
    "print(areas.reverse())"
   ]
  },
  {
   "cell_type": "code",
   "execution_count": 43,
   "metadata": {},
   "outputs": [
    {
     "name": "stdout",
     "output_type": "stream",
     "text": [
      "[9.5, 'bathroom', 10.75, 'bedroom', 20.0, 'living room', 18.0, 'kitchen', 11.25, 'hallway']\n"
     ]
    }
   ],
   "source": [
    "print(areas)"
   ]
  },
  {
   "cell_type": "markdown",
   "metadata": {},
   "source": [
    "## areas.reverse() does not return anything, rather it reverses the original list"
   ]
  },
  {
   "cell_type": "markdown",
   "metadata": {},
   "source": [
    "## String Methods\n"
   ]
  },
  {
   "cell_type": "code",
   "execution_count": 44,
   "metadata": {},
   "outputs": [
    {
     "name": "stdout",
     "output_type": "stream",
     "text": [
      "poolhouse\n",
      "POOLHOUSE\n",
      "3\n"
     ]
    }
   ],
   "source": [
    "# string to experiment with: place\n",
    "place = \"poolhouse\"\n",
    "\n",
    "# Use upper() on place: place_up\n",
    "place_up = place.upper()\n",
    "\n",
    "# Print out place and place_up\n",
    "print(place)\n",
    "print(place_up)\n",
    "\n",
    "# Print out the number of o's in place\n",
    "print(place.count(\"o\"))"
   ]
  },
  {
   "cell_type": "markdown",
   "metadata": {},
   "source": [
    "Nice! Notice from the printouts that the <code>upper()</code> method does not change the object it is called on. This will be different for lists in the next exercise!"
   ]
  },
  {
   "cell_type": "markdown",
   "metadata": {},
   "source": [
    "## Lists methods\n"
   ]
  },
  {
   "cell_type": "code",
   "execution_count": 45,
   "metadata": {},
   "outputs": [
    {
     "name": "stdout",
     "output_type": "stream",
     "text": [
      "2\n",
      "1\n"
     ]
    }
   ],
   "source": [
    "# Create list areas\n",
    "areas = [11.25, 18.0, 20.0, 10.75, 9.50]\n",
    "\n",
    "# Print out the index of the element 20.0\n",
    "print(areas.index(20.0))\n",
    "\n",
    "# Print out how often 14.5 appears in areas\n",
    "print(areas.count(9.50))"
   ]
  },
  {
   "cell_type": "code",
   "execution_count": 46,
   "metadata": {},
   "outputs": [
    {
     "name": "stdout",
     "output_type": "stream",
     "text": [
      "[11.25, 18.0, 20.0, 10.75, 9.5, 24.5, 15.45]\n"
     ]
    }
   ],
   "source": [
    "# Create list areas\n",
    "areas = [11.25, 18.0, 20.0, 10.75, 9.50]\n",
    "\n",
    "# Use append twice to add poolhouse and garage size\n",
    "areas.append(24.5)\n",
    "areas.append(15.45)\n",
    "\n",
    "# Print out areas\n",
    "print(areas)\n",
    "\n",
    "# Reverse the orders of the elements in areas\n",
    "areas.reverse()"
   ]
  },
  {
   "cell_type": "code",
   "execution_count": 47,
   "metadata": {},
   "outputs": [
    {
     "name": "stdout",
     "output_type": "stream",
     "text": [
      "[15.45, 24.5, 9.5, 10.75, 20.0, 18.0, 11.25]\n"
     ]
    }
   ],
   "source": [
    "print(areas)"
   ]
  },
  {
   "cell_type": "markdown",
   "metadata": {},
   "source": [
    "# Chapter 3: Packages\n",
    "\n",
    "Packages consists of many python scripts known as module\n",
    "You have to install packages before you can use it"
   ]
  },
  {
   "cell_type": "code",
   "execution_count": 48,
   "metadata": {},
   "outputs": [],
   "source": [
    "import numpy as np"
   ]
  },
  {
   "cell_type": "code",
   "execution_count": 49,
   "metadata": {},
   "outputs": [
    {
     "name": "stdout",
     "output_type": "stream",
     "text": [
      "Circumference: 2.701769682087222\n",
      "Area: 0.5808804816487527\n"
     ]
    }
   ],
   "source": [
    "# Definition of radius\n",
    "r = 0.43\n",
    "\n",
    "# Import the math package\n",
    "import math\n",
    "\n",
    "# Calculate C\n",
    "C = 2*math.pi*r\n",
    "\n",
    "# Calculate A\n",
    "A = math.pi*r**2\n",
    "\n",
    "# Build printout\n",
    "print(\"Circumference: \" + str(C))\n",
    "print(\"Area: \" + str(A))"
   ]
  },
  {
   "cell_type": "code",
   "execution_count": 50,
   "metadata": {},
   "outputs": [
    {
     "name": "stdout",
     "output_type": "stream",
     "text": [
      "40317.10572106901\n"
     ]
    }
   ],
   "source": [
    "# Selective import\n",
    "# Definition of radius\n",
    "r = 192500\n",
    "\n",
    "# Import radians function of math package\n",
    "from math import radians\n",
    "\n",
    "# Travel distance of Moon if 12 degrees. Store in dist.\n",
    "dist = r*radians(12)\n",
    "\n",
    "# Print out dist\n",
    "print(dist)"
   ]
  },
  {
   "cell_type": "code",
   "execution_count": 51,
   "metadata": {},
   "outputs": [],
   "source": [
    "from scipy.linalg import inv as my_inv"
   ]
  },
  {
   "cell_type": "code",
   "execution_count": 52,
   "metadata": {},
   "outputs": [
    {
     "data": {
      "text/plain": [
       "array([[-2. ,  1. ],\n",
       "       [ 1.5, -0.5]])"
      ]
     },
     "execution_count": 52,
     "metadata": {},
     "output_type": "execute_result"
    }
   ],
   "source": [
    "my_inv([[1,2], [3,4]])"
   ]
  },
  {
   "cell_type": "markdown",
   "metadata": {},
   "source": [
    "# Chapter 4: Numpy"
   ]
  },
  {
   "cell_type": "code",
   "execution_count": 53,
   "metadata": {},
   "outputs": [],
   "source": [
    "z = \"tyuiop\"\n",
    "h = \"g\"\n",
    "while h in z:\n",
    "   print(h, end=\" \")\n"
   ]
  },
  {
   "cell_type": "code",
   "execution_count": 54,
   "metadata": {},
   "outputs": [
    {
     "name": "stdout",
     "output_type": "stream",
     "text": [
      "['s', 't', 'u', 'd', 'e', 'n', 't']\n"
     ]
    }
   ],
   "source": [
    "print([i.lower() for i in \"STUDENT\"])\n"
   ]
  },
  {
   "cell_type": "markdown",
   "metadata": {},
   "source": [
    "# List Recap\n",
    "- Powerful\n",
    "- Collection of values\n",
    "- Hold different datatypes\n",
    "- Change, add, remove (del)\n",
    "- Need for data science\n",
    "    - Mathetical operations on collections of data\n",
    "    - Speed"
   ]
  },
  {
   "cell_type": "code",
   "execution_count": 56,
   "metadata": {},
   "outputs": [],
   "source": [
    "height = [1.67, 1.80, 1.60]\n",
    "weight = [76, 80, 70]\n",
    "#weight/height**2"
   ]
  },
  {
   "cell_type": "markdown",
   "metadata": {},
   "source": [
    "# To solve the above error, numpy (Numeric Python) is used\n",
    "Numpy is\n",
    "- Numeric Python\n",
    "- Alternative to Python List: Numpy Array\n",
    "- Calculations over entire array (element wise calculations)\n",
    "- Easy and fast"
   ]
  },
  {
   "cell_type": "code",
   "execution_count": 57,
   "metadata": {},
   "outputs": [],
   "source": [
    "import numpy as np"
   ]
  },
  {
   "cell_type": "code",
   "execution_count": 58,
   "metadata": {},
   "outputs": [],
   "source": [
    "np_height = np.array(height)\n",
    "np_weight = np.array(weight)\n",
    "bmi = np_weight/np_height**2"
   ]
  },
  {
   "cell_type": "code",
   "execution_count": 59,
   "metadata": {},
   "outputs": [
    {
     "data": {
      "text/plain": [
       "array([27.25088745, 24.69135802, 27.34375   ])"
      ]
     },
     "execution_count": 59,
     "metadata": {},
     "output_type": "execute_result"
    }
   ],
   "source": [
    "bmi"
   ]
  },
  {
   "cell_type": "code",
   "execution_count": 60,
   "metadata": {},
   "outputs": [
    {
     "data": {
      "text/plain": [
       "array(['1', 'Liz', '5.24'], dtype='<U11')"
      ]
     },
     "execution_count": 60,
     "metadata": {},
     "output_type": "execute_result"
    }
   ],
   "source": [
    "# numpy array contains only single data type\n",
    "np.array([1,\"Liz\",5.24])"
   ]
  },
  {
   "cell_type": "code",
   "execution_count": 61,
   "metadata": {},
   "outputs": [
    {
     "name": "stdout",
     "output_type": "stream",
     "text": [
      "[1, 2, 3, 1, 2, 3]\n",
      "[2 4 6]\n"
     ]
    }
   ],
   "source": [
    "python_list = [1,2,3]\n",
    "numpy_array = np.array([1,2,3])\n",
    "print(python_list + python_list)\n",
    "print(numpy_array + numpy_array)"
   ]
  },
  {
   "cell_type": "code",
   "execution_count": 62,
   "metadata": {},
   "outputs": [
    {
     "data": {
      "text/plain": [
       "27.250887446663558"
      ]
     },
     "execution_count": 62,
     "metadata": {},
     "output_type": "execute_result"
    }
   ],
   "source": [
    "# Numpy subsetting is very similar to List subsetting\n",
    "bmi[0]\n"
   ]
  },
  {
   "cell_type": "code",
   "execution_count": 63,
   "metadata": {},
   "outputs": [
    {
     "data": {
      "text/plain": [
       "27.343749999999996"
      ]
     },
     "execution_count": 63,
     "metadata": {},
     "output_type": "execute_result"
    }
   ],
   "source": [
    "bmi[-1]"
   ]
  },
  {
   "cell_type": "code",
   "execution_count": 64,
   "metadata": {},
   "outputs": [
    {
     "data": {
      "text/plain": [
       "array([27.25088745, 24.69135802])"
      ]
     },
     "execution_count": 64,
     "metadata": {},
     "output_type": "execute_result"
    }
   ],
   "source": [
    "bmi[:2]"
   ]
  },
  {
   "cell_type": "code",
   "execution_count": 65,
   "metadata": {},
   "outputs": [
    {
     "data": {
      "text/plain": [
       "array([ True, False,  True])"
      ]
     },
     "execution_count": 65,
     "metadata": {},
     "output_type": "execute_result"
    }
   ],
   "source": [
    "bmi > 25"
   ]
  },
  {
   "cell_type": "code",
   "execution_count": 66,
   "metadata": {},
   "outputs": [
    {
     "data": {
      "text/plain": [
       "array([27.25088745, 27.34375   ])"
      ]
     },
     "execution_count": 66,
     "metadata": {},
     "output_type": "execute_result"
    }
   ],
   "source": [
    "bmi[bmi>25]"
   ]
  },
  {
   "cell_type": "code",
   "execution_count": 67,
   "metadata": {},
   "outputs": [
    {
     "name": "stdout",
     "output_type": "stream",
     "text": [
      "<class 'numpy.ndarray'>\n"
     ]
    }
   ],
   "source": [
    "# Your First Numpy Array\n",
    "# Create list baseball \n",
    "baseball = [180, 215, 210, 210, 188, 176, 209, 200]\n",
    "\n",
    "# Import the numpy package as np\n",
    "import numpy as np\n",
    "\n",
    "# Create a Numpy array from baseball: np_baseball\n",
    "np_baseball = np.array(baseball)\n",
    "\n",
    "# Print out type of np_baseball\n",
    "print(type(np_baseball))"
   ]
  },
  {
   "cell_type": "code",
   "execution_count": 68,
   "metadata": {},
   "outputs": [],
   "source": [
    "import pandas as pd\n",
    "mlb = pd.read_csv(\"mlb.csv\")"
   ]
  },
  {
   "cell_type": "code",
   "execution_count": 69,
   "metadata": {},
   "outputs": [
    {
     "data": {
      "text/html": [
       "<div>\n",
       "<style scoped>\n",
       "    .dataframe tbody tr th:only-of-type {\n",
       "        vertical-align: middle;\n",
       "    }\n",
       "\n",
       "    .dataframe tbody tr th {\n",
       "        vertical-align: top;\n",
       "    }\n",
       "\n",
       "    .dataframe thead th {\n",
       "        text-align: right;\n",
       "    }\n",
       "</style>\n",
       "<table border=\"1\" class=\"dataframe\">\n",
       "  <thead>\n",
       "    <tr style=\"text-align: right;\">\n",
       "      <th></th>\n",
       "      <th>Name</th>\n",
       "      <th>Team</th>\n",
       "      <th>Position</th>\n",
       "      <th>Height(inches)</th>\n",
       "      <th>Weight(pounds)</th>\n",
       "      <th>Age</th>\n",
       "    </tr>\n",
       "  </thead>\n",
       "  <tbody>\n",
       "    <tr>\n",
       "      <th>0</th>\n",
       "      <td>Adam_Donachie</td>\n",
       "      <td>BAL</td>\n",
       "      <td>Catcher</td>\n",
       "      <td>74</td>\n",
       "      <td>180.0</td>\n",
       "      <td>22.99</td>\n",
       "    </tr>\n",
       "    <tr>\n",
       "      <th>1</th>\n",
       "      <td>Paul_Bako</td>\n",
       "      <td>BAL</td>\n",
       "      <td>Catcher</td>\n",
       "      <td>74</td>\n",
       "      <td>215.0</td>\n",
       "      <td>34.69</td>\n",
       "    </tr>\n",
       "    <tr>\n",
       "      <th>2</th>\n",
       "      <td>Ramon_Hernandez</td>\n",
       "      <td>BAL</td>\n",
       "      <td>Catcher</td>\n",
       "      <td>72</td>\n",
       "      <td>210.0</td>\n",
       "      <td>30.78</td>\n",
       "    </tr>\n",
       "    <tr>\n",
       "      <th>3</th>\n",
       "      <td>Kevin_Millar</td>\n",
       "      <td>BAL</td>\n",
       "      <td>First_Baseman</td>\n",
       "      <td>72</td>\n",
       "      <td>210.0</td>\n",
       "      <td>35.43</td>\n",
       "    </tr>\n",
       "    <tr>\n",
       "      <th>4</th>\n",
       "      <td>Chris_Gomez</td>\n",
       "      <td>BAL</td>\n",
       "      <td>First_Baseman</td>\n",
       "      <td>73</td>\n",
       "      <td>188.0</td>\n",
       "      <td>35.71</td>\n",
       "    </tr>\n",
       "  </tbody>\n",
       "</table>\n",
       "</div>"
      ],
      "text/plain": [
       "             Name   Team       Position    Height(inches)    Weight(pounds)   \\\n",
       "0    Adam_Donachie    BAL        Catcher                74             180.0   \n",
       "1        Paul_Bako    BAL        Catcher                74             215.0   \n",
       "2  Ramon_Hernandez    BAL        Catcher                72             210.0   \n",
       "3     Kevin_Millar    BAL  First_Baseman                72             210.0   \n",
       "4      Chris_Gomez    BAL  First_Baseman                73             188.0   \n",
       "\n",
       "    Age   \n",
       "0  22.99  \n",
       "1  34.69  \n",
       "2  30.78  \n",
       "3  35.43  \n",
       "4  35.71  "
      ]
     },
     "execution_count": 69,
     "metadata": {},
     "output_type": "execute_result"
    }
   ],
   "source": [
    "mlb.head()\n"
   ]
  },
  {
   "cell_type": "code",
   "execution_count": 70,
   "metadata": {},
   "outputs": [
    {
     "data": {
      "text/plain": [
       "640"
      ]
     },
     "execution_count": 70,
     "metadata": {},
     "output_type": "execute_result"
    }
   ],
   "source": [
    "list(mlb[mlb.columns[4]].isna()).index(True)"
   ]
  },
  {
   "cell_type": "code",
   "execution_count": 71,
   "metadata": {},
   "outputs": [
    {
     "data": {
      "text/plain": [
       "Name                   Kirk_Saarloos\n",
       " Team                            CIN\n",
       " Position           Starting_Pitcher\n",
       " Height(inches)                   72\n",
       " Weight(pounds)                  NaN\n",
       " Age                           27.77\n",
       "Name: 640, dtype: object"
      ]
     },
     "execution_count": 71,
     "metadata": {},
     "output_type": "execute_result"
    }
   ],
   "source": [
    "mlb.iloc[640,:]"
   ]
  },
  {
   "cell_type": "code",
   "execution_count": 72,
   "metadata": {},
   "outputs": [
    {
     "data": {
      "text/plain": [
       "nan"
      ]
     },
     "execution_count": 72,
     "metadata": {},
     "output_type": "execute_result"
    }
   ],
   "source": [
    "mlb.iloc[640,4]"
   ]
  },
  {
   "cell_type": "code",
   "execution_count": 73,
   "metadata": {},
   "outputs": [],
   "source": [
    "mlb.iloc[640,4] = 204"
   ]
  },
  {
   "cell_type": "code",
   "execution_count": 74,
   "metadata": {},
   "outputs": [],
   "source": [
    "height_in = list(mlb[mlb.columns[3]])\n",
    "weight_lb = list(mlb[mlb.columns[4]])"
   ]
  },
  {
   "cell_type": "code",
   "execution_count": 75,
   "metadata": {},
   "outputs": [
    {
     "name": "stdout",
     "output_type": "stream",
     "text": [
      "[74 74 72 ... 75 75 73]\n",
      "[1.8796 1.8796 1.8288 ... 1.905  1.905  1.8542]\n"
     ]
    }
   ],
   "source": [
    "# Baseball player's height\n",
    "\n",
    "# height is available as a regular list\n",
    "\n",
    "# Import numpy\n",
    "import numpy as np\n",
    "\n",
    "# Create a Numpy array from height: np_height\n",
    "np_height_in = np.array(height_in)\n",
    "\n",
    "# Print out np_height\n",
    "print(np_height_in)\n",
    "\n",
    "# Convert np_height to m: np_height_m\n",
    "np_height_m = 0.0254*np_height_in\n",
    "\n",
    "# Print np_height_m\n",
    "print(np_height_m)"
   ]
  },
  {
   "cell_type": "code",
   "execution_count": 76,
   "metadata": {},
   "outputs": [],
   "source": [
    "# height and weight are available as a regular lists\n",
    "\n",
    "# Import numpy\n",
    "import numpy as np\n",
    "\n",
    "# Create array from height with correct units: np_height_m\n",
    "np_height_m = np.array(height_in) * 0.0254\n",
    "\n",
    "# Create array from weight with correct units: np_weight_kg \n",
    "np_weight_kg = np.array(weight_lb) * 0.453592\n",
    "\n",
    "# Calculate the BMI: bmi\n",
    "bmi = np_weight_kg/np_height_m**2\n"
   ]
  },
  {
   "cell_type": "code",
   "execution_count": 77,
   "metadata": {},
   "outputs": [
    {
     "data": {
      "text/plain": [
       "array([23.11037639, 27.60406069, 28.48080465, ..., 25.62295933,\n",
       "       23.74810865, 25.72686361])"
      ]
     },
     "execution_count": 77,
     "metadata": {},
     "output_type": "execute_result"
    }
   ],
   "source": [
    "bmi"
   ]
  },
  {
   "cell_type": "markdown",
   "metadata": {},
   "source": [
    "# Light weight baseball players"
   ]
  },
  {
   "cell_type": "code",
   "execution_count": 78,
   "metadata": {
    "scrolled": true
   },
   "outputs": [
    {
     "name": "stdout",
     "output_type": "stream",
     "text": [
      "[False False False ... False False False]\n",
      "[20.54255679 20.54255679 20.69282047 20.69282047 20.34343189 20.34343189\n",
      " 20.69282047 20.15883472 19.4984471  20.69282047 20.9205219 ]\n"
     ]
    }
   ],
   "source": [
    "# height and weight are available as a regular lists\n",
    "\n",
    "# Import numpy\n",
    "import numpy as np\n",
    "\n",
    "# Calculate the BMI: bmi\n",
    "np_height_m = np.array(height_in) * 0.0254\n",
    "np_weight_kg = np.array(weight_lb) * 0.453592\n",
    "bmi = np_weight_kg / np_height_m ** 2\n",
    "\n",
    "# Create the light array\n",
    "light = bmi < 21\n",
    "\n",
    "# Print out light\n",
    "print(light)\n",
    "\n",
    "# Print out BMIs of all baseball players whose BMI is below 21\n",
    "print(bmi[light])"
   ]
  },
  {
   "cell_type": "code",
   "execution_count": 79,
   "metadata": {},
   "outputs": [
    {
     "data": {
      "text/plain": [
       "0"
      ]
     },
     "execution_count": 79,
     "metadata": {},
     "output_type": "execute_result"
    }
   ],
   "source": [
    "np.isnan(bmi).sum().sum()"
   ]
  },
  {
   "cell_type": "markdown",
   "metadata": {},
   "source": [
    "# subsetting numpy arrays"
   ]
  },
  {
   "cell_type": "code",
   "execution_count": 80,
   "metadata": {},
   "outputs": [
    {
     "name": "stdout",
     "output_type": "stream",
     "text": [
      "195.0\n",
      "[73 72 74 73 74 72 73 69 72 73 75]\n"
     ]
    }
   ],
   "source": [
    "# height and weight are available as a regular lists\n",
    "\n",
    "# Import numpy\n",
    "import numpy as np\n",
    "\n",
    "# Store weight and height lists as numpy arrays\n",
    "np_weight_lb = np.array(weight_lb)\n",
    "np_height_in = np.array(height_in)\n",
    "\n",
    "# Print out the weight at index 50\n",
    "print(np_weight_lb[50])\n",
    "\n",
    "# Print out sub-array of np_height: index 100 up to and including index 110\n",
    "print(np_height_in[100:111])"
   ]
  },
  {
   "cell_type": "markdown",
   "metadata": {},
   "source": [
    "# Your first 2D Numpy Array"
   ]
  },
  {
   "cell_type": "code",
   "execution_count": 81,
   "metadata": {},
   "outputs": [
    {
     "name": "stdout",
     "output_type": "stream",
     "text": [
      "<class 'numpy.ndarray'>\n",
      "(4, 2)\n"
     ]
    }
   ],
   "source": [
    "# Create baseball, a list of lists\n",
    "baseball = [[180, 78.4],\n",
    "            [215, 102.7],\n",
    "            [210, 98.5],\n",
    "            [188, 75.2]]\n",
    "\n",
    "# Import numpy\n",
    "import numpy as np\n",
    "\n",
    "# Create a 2D Numpy array from baseball: np_baseball\n",
    "np_baseball = np.array(baseball)\n",
    "\n",
    "# Print out the type of np_baseball\n",
    "print(type(np_baseball))\n",
    "\n",
    "# Print out the shape of np_baseball\n",
    "print(np_baseball.shape)"
   ]
  },
  {
   "cell_type": "code",
   "execution_count": 82,
   "metadata": {},
   "outputs": [],
   "source": [
    "baseball_df = mlb[[mlb.columns[3],mlb.columns[4]]]"
   ]
  },
  {
   "cell_type": "code",
   "execution_count": 83,
   "metadata": {},
   "outputs": [
    {
     "data": {
      "text/plain": [
       "pandas.core.frame.DataFrame"
      ]
     },
     "execution_count": 83,
     "metadata": {},
     "output_type": "execute_result"
    }
   ],
   "source": [
    "type(baseball_df)"
   ]
  },
  {
   "cell_type": "code",
   "execution_count": 84,
   "metadata": {},
   "outputs": [],
   "source": [
    "baseball = baseball_df.values.tolist()"
   ]
  },
  {
   "cell_type": "code",
   "execution_count": 85,
   "metadata": {},
   "outputs": [
    {
     "data": {
      "text/plain": [
       "list"
      ]
     },
     "execution_count": 85,
     "metadata": {},
     "output_type": "execute_result"
    }
   ],
   "source": [
    "type(baseball)"
   ]
  },
  {
   "cell_type": "code",
   "execution_count": 86,
   "metadata": {},
   "outputs": [
    {
     "data": {
      "text/plain": [
       "[[74.0, 180.0],\n",
       " [74.0, 215.0],\n",
       " [72.0, 210.0],\n",
       " [72.0, 210.0],\n",
       " [73.0, 188.0],\n",
       " [69.0, 176.0],\n",
       " [69.0, 209.0],\n",
       " [71.0, 200.0],\n",
       " [76.0, 231.0],\n",
       " [71.0, 180.0],\n",
       " [73.0, 188.0],\n",
       " [73.0, 180.0],\n",
       " [74.0, 185.0],\n",
       " [74.0, 160.0],\n",
       " [69.0, 180.0],\n",
       " [70.0, 185.0],\n",
       " [72.0, 197.0],\n",
       " [73.0, 189.0],\n",
       " [75.0, 185.0],\n",
       " [78.0, 219.0],\n",
       " [79.0, 230.0],\n",
       " [76.0, 205.0],\n",
       " [74.0, 230.0],\n",
       " [76.0, 195.0],\n",
       " [72.0, 180.0],\n",
       " [71.0, 192.0],\n",
       " [75.0, 225.0],\n",
       " [77.0, 203.0],\n",
       " [74.0, 195.0],\n",
       " [73.0, 182.0],\n",
       " [74.0, 188.0],\n",
       " [78.0, 200.0],\n",
       " [73.0, 180.0],\n",
       " [75.0, 200.0],\n",
       " [73.0, 200.0],\n",
       " [75.0, 245.0],\n",
       " [75.0, 240.0],\n",
       " [74.0, 215.0],\n",
       " [69.0, 185.0],\n",
       " [71.0, 175.0],\n",
       " [74.0, 199.0],\n",
       " [73.0, 200.0],\n",
       " [73.0, 215.0],\n",
       " [76.0, 200.0],\n",
       " [74.0, 205.0],\n",
       " [74.0, 206.0],\n",
       " [70.0, 186.0],\n",
       " [72.0, 188.0],\n",
       " [77.0, 220.0],\n",
       " [74.0, 210.0],\n",
       " [70.0, 195.0],\n",
       " [76.0, 244.0],\n",
       " [75.0, 195.0],\n",
       " [73.0, 200.0],\n",
       " [75.0, 200.0],\n",
       " [76.0, 212.0],\n",
       " [76.0, 224.0],\n",
       " [78.0, 210.0],\n",
       " [74.0, 205.0],\n",
       " [74.0, 220.0],\n",
       " [76.0, 195.0],\n",
       " [77.0, 200.0],\n",
       " [81.0, 260.0],\n",
       " [78.0, 228.0],\n",
       " [75.0, 270.0],\n",
       " [77.0, 200.0],\n",
       " [75.0, 210.0],\n",
       " [76.0, 190.0],\n",
       " [74.0, 220.0],\n",
       " [72.0, 180.0],\n",
       " [72.0, 205.0],\n",
       " [75.0, 210.0],\n",
       " [73.0, 220.0],\n",
       " [73.0, 211.0],\n",
       " [73.0, 200.0],\n",
       " [70.0, 180.0],\n",
       " [70.0, 190.0],\n",
       " [70.0, 170.0],\n",
       " [76.0, 230.0],\n",
       " [68.0, 155.0],\n",
       " [71.0, 185.0],\n",
       " [72.0, 185.0],\n",
       " [75.0, 200.0],\n",
       " [75.0, 225.0],\n",
       " [75.0, 225.0],\n",
       " [75.0, 220.0],\n",
       " [68.0, 160.0],\n",
       " [74.0, 205.0],\n",
       " [78.0, 235.0],\n",
       " [71.0, 250.0],\n",
       " [73.0, 210.0],\n",
       " [76.0, 190.0],\n",
       " [74.0, 160.0],\n",
       " [74.0, 200.0],\n",
       " [79.0, 205.0],\n",
       " [75.0, 222.0],\n",
       " [73.0, 195.0],\n",
       " [76.0, 205.0],\n",
       " [74.0, 220.0],\n",
       " [74.0, 220.0],\n",
       " [73.0, 170.0],\n",
       " [72.0, 185.0],\n",
       " [74.0, 195.0],\n",
       " [73.0, 220.0],\n",
       " [74.0, 230.0],\n",
       " [72.0, 180.0],\n",
       " [73.0, 220.0],\n",
       " [69.0, 180.0],\n",
       " [72.0, 180.0],\n",
       " [73.0, 170.0],\n",
       " [75.0, 210.0],\n",
       " [75.0, 215.0],\n",
       " [73.0, 200.0],\n",
       " [72.0, 213.0],\n",
       " [72.0, 180.0],\n",
       " [76.0, 192.0],\n",
       " [74.0, 235.0],\n",
       " [72.0, 185.0],\n",
       " [76.0, 230.0],\n",
       " [77.0, 235.0],\n",
       " [74.0, 210.0],\n",
       " [77.0, 222.0],\n",
       " [75.0, 210.0],\n",
       " [76.0, 230.0],\n",
       " [80.0, 220.0],\n",
       " [74.0, 180.0],\n",
       " [74.0, 190.0],\n",
       " [75.0, 200.0],\n",
       " [78.0, 210.0],\n",
       " [73.0, 194.0],\n",
       " [73.0, 180.0],\n",
       " [74.0, 190.0],\n",
       " [75.0, 240.0],\n",
       " [76.0, 200.0],\n",
       " [71.0, 198.0],\n",
       " [73.0, 200.0],\n",
       " [74.0, 195.0],\n",
       " [76.0, 210.0],\n",
       " [76.0, 220.0],\n",
       " [74.0, 190.0],\n",
       " [73.0, 210.0],\n",
       " [74.0, 225.0],\n",
       " [70.0, 180.0],\n",
       " [72.0, 185.0],\n",
       " [73.0, 170.0],\n",
       " [73.0, 185.0],\n",
       " [73.0, 185.0],\n",
       " [73.0, 180.0],\n",
       " [71.0, 178.0],\n",
       " [74.0, 175.0],\n",
       " [74.0, 200.0],\n",
       " [72.0, 204.0],\n",
       " [74.0, 211.0],\n",
       " [71.0, 190.0],\n",
       " [74.0, 210.0],\n",
       " [75.0, 240.0],\n",
       " [73.0, 190.0],\n",
       " [75.0, 190.0],\n",
       " [75.0, 185.0],\n",
       " [79.0, 290.0],\n",
       " [73.0, 175.0],\n",
       " [75.0, 185.0],\n",
       " [76.0, 200.0],\n",
       " [74.0, 220.0],\n",
       " [76.0, 170.0],\n",
       " [78.0, 220.0],\n",
       " [74.0, 190.0],\n",
       " [76.0, 220.0],\n",
       " [72.0, 205.0],\n",
       " [74.0, 200.0],\n",
       " [76.0, 250.0],\n",
       " [74.0, 225.0],\n",
       " [75.0, 215.0],\n",
       " [78.0, 210.0],\n",
       " [75.0, 215.0],\n",
       " [72.0, 195.0],\n",
       " [74.0, 200.0],\n",
       " [72.0, 194.0],\n",
       " [74.0, 220.0],\n",
       " [70.0, 180.0],\n",
       " [71.0, 180.0],\n",
       " [70.0, 170.0],\n",
       " [75.0, 195.0],\n",
       " [71.0, 180.0],\n",
       " [71.0, 170.0],\n",
       " [73.0, 206.0],\n",
       " [72.0, 205.0],\n",
       " [71.0, 200.0],\n",
       " [73.0, 225.0],\n",
       " [72.0, 201.0],\n",
       " [75.0, 225.0],\n",
       " [70.0, 226.0],\n",
       " [74.0, 233.0],\n",
       " [74.0, 180.0],\n",
       " [75.0, 225.0],\n",
       " [73.0, 180.0],\n",
       " [77.0, 220.0],\n",
       " [73.0, 180.0],\n",
       " [76.0, 237.0],\n",
       " [75.0, 215.0],\n",
       " [74.0, 190.0],\n",
       " [76.0, 235.0],\n",
       " [75.0, 190.0],\n",
       " [73.0, 180.0],\n",
       " [71.0, 165.0],\n",
       " [76.0, 195.0],\n",
       " [75.0, 200.0],\n",
       " [72.0, 190.0],\n",
       " [71.0, 190.0],\n",
       " [77.0, 185.0],\n",
       " [73.0, 185.0],\n",
       " [74.0, 205.0],\n",
       " [71.0, 190.0],\n",
       " [72.0, 205.0],\n",
       " [74.0, 206.0],\n",
       " [75.0, 220.0],\n",
       " [73.0, 208.0],\n",
       " [72.0, 170.0],\n",
       " [75.0, 195.0],\n",
       " [75.0, 210.0],\n",
       " [74.0, 190.0],\n",
       " [72.0, 211.0],\n",
       " [74.0, 230.0],\n",
       " [71.0, 170.0],\n",
       " [70.0, 185.0],\n",
       " [75.0, 230.0],\n",
       " [74.0, 185.0],\n",
       " [77.0, 241.0],\n",
       " [77.0, 225.0],\n",
       " [75.0, 210.0],\n",
       " [75.0, 175.0],\n",
       " [78.0, 230.0],\n",
       " [75.0, 200.0],\n",
       " [76.0, 215.0],\n",
       " [73.0, 198.0],\n",
       " [75.0, 226.0],\n",
       " [75.0, 278.0],\n",
       " [79.0, 215.0],\n",
       " [77.0, 230.0],\n",
       " [76.0, 240.0],\n",
       " [71.0, 184.0],\n",
       " [75.0, 219.0],\n",
       " [74.0, 170.0],\n",
       " [69.0, 218.0],\n",
       " [71.0, 190.0],\n",
       " [76.0, 225.0],\n",
       " [72.0, 220.0],\n",
       " [72.0, 176.0],\n",
       " [70.0, 190.0],\n",
       " [72.0, 197.0],\n",
       " [73.0, 204.0],\n",
       " [71.0, 167.0],\n",
       " [72.0, 180.0],\n",
       " [71.0, 195.0],\n",
       " [73.0, 220.0],\n",
       " [72.0, 215.0],\n",
       " [73.0, 185.0],\n",
       " [74.0, 190.0],\n",
       " [74.0, 205.0],\n",
       " [72.0, 205.0],\n",
       " [73.0, 200.0],\n",
       " [75.0, 200.0],\n",
       " [74.0, 210.0],\n",
       " [74.0, 215.0],\n",
       " [77.0, 200.0],\n",
       " [75.0, 205.0],\n",
       " [73.0, 211.0],\n",
       " [72.0, 190.0],\n",
       " [71.0, 208.0],\n",
       " [74.0, 200.0],\n",
       " [77.0, 210.0],\n",
       " [75.0, 232.0],\n",
       " [75.0, 230.0],\n",
       " [75.0, 210.0],\n",
       " [78.0, 220.0],\n",
       " [78.0, 210.0],\n",
       " [74.0, 202.0],\n",
       " [76.0, 212.0],\n",
       " [78.0, 225.0],\n",
       " [76.0, 170.0],\n",
       " [70.0, 190.0],\n",
       " [72.0, 200.0],\n",
       " [80.0, 237.0],\n",
       " [74.0, 220.0],\n",
       " [74.0, 170.0],\n",
       " [71.0, 193.0],\n",
       " [70.0, 190.0],\n",
       " [72.0, 150.0],\n",
       " [71.0, 220.0],\n",
       " [74.0, 200.0],\n",
       " [71.0, 190.0],\n",
       " [72.0, 185.0],\n",
       " [71.0, 185.0],\n",
       " [74.0, 200.0],\n",
       " [69.0, 172.0],\n",
       " [76.0, 220.0],\n",
       " [75.0, 225.0],\n",
       " [75.0, 190.0],\n",
       " [76.0, 195.0],\n",
       " [73.0, 219.0],\n",
       " [76.0, 190.0],\n",
       " [73.0, 197.0],\n",
       " [77.0, 200.0],\n",
       " [73.0, 195.0],\n",
       " [72.0, 210.0],\n",
       " [72.0, 177.0],\n",
       " [77.0, 220.0],\n",
       " [77.0, 235.0],\n",
       " [71.0, 180.0],\n",
       " [74.0, 195.0],\n",
       " [74.0, 195.0],\n",
       " [73.0, 190.0],\n",
       " [78.0, 230.0],\n",
       " [75.0, 190.0],\n",
       " [73.0, 200.0],\n",
       " [70.0, 190.0],\n",
       " [74.0, 190.0],\n",
       " [72.0, 200.0],\n",
       " [73.0, 200.0],\n",
       " [73.0, 184.0],\n",
       " [75.0, 200.0],\n",
       " [75.0, 180.0],\n",
       " [74.0, 219.0],\n",
       " [76.0, 187.0],\n",
       " [73.0, 200.0],\n",
       " [74.0, 220.0],\n",
       " [75.0, 205.0],\n",
       " [73.0, 205.0],\n",
       " [75.0, 190.0],\n",
       " [72.0, 170.0],\n",
       " [73.0, 160.0],\n",
       " [73.0, 215.0],\n",
       " [72.0, 175.0],\n",
       " [74.0, 205.0],\n",
       " [78.0, 200.0],\n",
       " [76.0, 214.0],\n",
       " [73.0, 200.0],\n",
       " [74.0, 190.0],\n",
       " [75.0, 180.0],\n",
       " [70.0, 205.0],\n",
       " [75.0, 220.0],\n",
       " [71.0, 190.0],\n",
       " [72.0, 215.0],\n",
       " [78.0, 235.0],\n",
       " [75.0, 191.0],\n",
       " [73.0, 200.0],\n",
       " [73.0, 181.0],\n",
       " [71.0, 200.0],\n",
       " [75.0, 210.0],\n",
       " [77.0, 240.0],\n",
       " [72.0, 185.0],\n",
       " [69.0, 165.0],\n",
       " [73.0, 190.0],\n",
       " [74.0, 185.0],\n",
       " [72.0, 175.0],\n",
       " [70.0, 155.0],\n",
       " [75.0, 210.0],\n",
       " [70.0, 170.0],\n",
       " [72.0, 175.0],\n",
       " [72.0, 220.0],\n",
       " [74.0, 210.0],\n",
       " [73.0, 205.0],\n",
       " [74.0, 200.0],\n",
       " [75.0, 225.0],\n",
       " [76.0, 205.0],\n",
       " [75.0, 195.0],\n",
       " [80.0, 240.0],\n",
       " [72.0, 150.0],\n",
       " [75.0, 200.0],\n",
       " [73.0, 215.0],\n",
       " [74.0, 202.0],\n",
       " [74.0, 200.0],\n",
       " [73.0, 190.0],\n",
       " [75.0, 205.0],\n",
       " [75.0, 190.0],\n",
       " [71.0, 160.0],\n",
       " [73.0, 215.0],\n",
       " [75.0, 185.0],\n",
       " [74.0, 200.0],\n",
       " [74.0, 190.0],\n",
       " [72.0, 210.0],\n",
       " [74.0, 185.0],\n",
       " [74.0, 220.0],\n",
       " [74.0, 190.0],\n",
       " [73.0, 202.0],\n",
       " [76.0, 205.0],\n",
       " [75.0, 220.0],\n",
       " [72.0, 175.0],\n",
       " [73.0, 160.0],\n",
       " [73.0, 190.0],\n",
       " [73.0, 200.0],\n",
       " [72.0, 229.0],\n",
       " [72.0, 206.0],\n",
       " [72.0, 220.0],\n",
       " [72.0, 180.0],\n",
       " [71.0, 195.0],\n",
       " [75.0, 175.0],\n",
       " [77.0, 250.0],\n",
       " [75.0, 188.0],\n",
       " [74.0, 230.0],\n",
       " [73.0, 190.0],\n",
       " [75.0, 200.0],\n",
       " [79.0, 190.0],\n",
       " [74.0, 219.0],\n",
       " [76.0, 235.0],\n",
       " [73.0, 180.0],\n",
       " [74.0, 180.0],\n",
       " [74.0, 180.0],\n",
       " [72.0, 200.0],\n",
       " [74.0, 234.0],\n",
       " [74.0, 185.0],\n",
       " [75.0, 220.0],\n",
       " [78.0, 223.0],\n",
       " [74.0, 200.0],\n",
       " [74.0, 210.0],\n",
       " [74.0, 200.0],\n",
       " [77.0, 210.0],\n",
       " [70.0, 190.0],\n",
       " [73.0, 177.0],\n",
       " [74.0, 227.0],\n",
       " [73.0, 180.0],\n",
       " [71.0, 195.0],\n",
       " [75.0, 199.0],\n",
       " [71.0, 175.0],\n",
       " [72.0, 185.0],\n",
       " [77.0, 240.0],\n",
       " [74.0, 210.0],\n",
       " [70.0, 180.0],\n",
       " [77.0, 194.0],\n",
       " [73.0, 225.0],\n",
       " [77.0, 275.0],\n",
       " [74.0, 195.0],\n",
       " [72.0, 180.0],\n",
       " [76.0, 205.0],\n",
       " [71.0, 193.0],\n",
       " [76.0, 230.0],\n",
       " [78.0, 230.0],\n",
       " [75.0, 220.0],\n",
       " [73.0, 200.0],\n",
       " [78.0, 249.0],\n",
       " [74.0, 190.0],\n",
       " [79.0, 208.0],\n",
       " [75.0, 245.0],\n",
       " [76.0, 250.0],\n",
       " [72.0, 160.0],\n",
       " [75.0, 192.0],\n",
       " [75.0, 220.0],\n",
       " [70.0, 170.0],\n",
       " [72.0, 197.0],\n",
       " [70.0, 155.0],\n",
       " [74.0, 190.0],\n",
       " [71.0, 200.0],\n",
       " [76.0, 220.0],\n",
       " [73.0, 210.0],\n",
       " [76.0, 228.0],\n",
       " [71.0, 190.0],\n",
       " [69.0, 160.0],\n",
       " [72.0, 184.0],\n",
       " [72.0, 180.0],\n",
       " [69.0, 180.0],\n",
       " [73.0, 200.0],\n",
       " [69.0, 176.0],\n",
       " [73.0, 160.0],\n",
       " [74.0, 222.0],\n",
       " [74.0, 211.0],\n",
       " [72.0, 195.0],\n",
       " [71.0, 200.0],\n",
       " [74.0, 210.0],\n",
       " [73.0, 225.0],\n",
       " [72.0, 175.0],\n",
       " [72.0, 206.0],\n",
       " [76.0, 240.0],\n",
       " [76.0, 185.0],\n",
       " [76.0, 260.0],\n",
       " [74.0, 185.0],\n",
       " [76.0, 221.0],\n",
       " [75.0, 205.0],\n",
       " [71.0, 200.0],\n",
       " [72.0, 170.0],\n",
       " [71.0, 201.0],\n",
       " [73.0, 205.0],\n",
       " [75.0, 185.0],\n",
       " [76.0, 205.0],\n",
       " [75.0, 245.0],\n",
       " [71.0, 220.0],\n",
       " [75.0, 210.0],\n",
       " [74.0, 220.0],\n",
       " [72.0, 185.0],\n",
       " [73.0, 175.0],\n",
       " [73.0, 170.0],\n",
       " [73.0, 180.0],\n",
       " [73.0, 200.0],\n",
       " [76.0, 210.0],\n",
       " [72.0, 175.0],\n",
       " [76.0, 220.0],\n",
       " [73.0, 206.0],\n",
       " [73.0, 180.0],\n",
       " [73.0, 210.0],\n",
       " [75.0, 195.0],\n",
       " [75.0, 200.0],\n",
       " [77.0, 200.0],\n",
       " [73.0, 164.0],\n",
       " [72.0, 180.0],\n",
       " [75.0, 220.0],\n",
       " [70.0, 195.0],\n",
       " [74.0, 205.0],\n",
       " [72.0, 170.0],\n",
       " [80.0, 240.0],\n",
       " [71.0, 210.0],\n",
       " [71.0, 195.0],\n",
       " [74.0, 200.0],\n",
       " [74.0, 205.0],\n",
       " [73.0, 192.0],\n",
       " [75.0, 190.0],\n",
       " [76.0, 170.0],\n",
       " [73.0, 240.0],\n",
       " [77.0, 200.0],\n",
       " [72.0, 205.0],\n",
       " [73.0, 175.0],\n",
       " [77.0, 250.0],\n",
       " [76.0, 220.0],\n",
       " [71.0, 224.0],\n",
       " [75.0, 210.0],\n",
       " [73.0, 195.0],\n",
       " [74.0, 180.0],\n",
       " [77.0, 245.0],\n",
       " [71.0, 175.0],\n",
       " [72.0, 180.0],\n",
       " [73.0, 215.0],\n",
       " [69.0, 175.0],\n",
       " [73.0, 180.0],\n",
       " [70.0, 195.0],\n",
       " [74.0, 230.0],\n",
       " [76.0, 230.0],\n",
       " [73.0, 205.0],\n",
       " [73.0, 215.0],\n",
       " [75.0, 195.0],\n",
       " [73.0, 180.0],\n",
       " [79.0, 205.0],\n",
       " [74.0, 180.0],\n",
       " [73.0, 190.0],\n",
       " [74.0, 180.0],\n",
       " [77.0, 190.0],\n",
       " [75.0, 190.0],\n",
       " [74.0, 220.0],\n",
       " [73.0, 210.0],\n",
       " [77.0, 255.0],\n",
       " [73.0, 190.0],\n",
       " [77.0, 230.0],\n",
       " [74.0, 200.0],\n",
       " [74.0, 205.0],\n",
       " [73.0, 210.0],\n",
       " [77.0, 225.0],\n",
       " [74.0, 215.0],\n",
       " [77.0, 220.0],\n",
       " [75.0, 205.0],\n",
       " [77.0, 200.0],\n",
       " [75.0, 220.0],\n",
       " [71.0, 197.0],\n",
       " [74.0, 225.0],\n",
       " [70.0, 187.0],\n",
       " [79.0, 245.0],\n",
       " [72.0, 185.0],\n",
       " [72.0, 185.0],\n",
       " [70.0, 175.0],\n",
       " [74.0, 200.0],\n",
       " [74.0, 180.0],\n",
       " [72.0, 188.0],\n",
       " [73.0, 225.0],\n",
       " [72.0, 200.0],\n",
       " [74.0, 210.0],\n",
       " [74.0, 245.0],\n",
       " [76.0, 213.0],\n",
       " [82.0, 231.0],\n",
       " [74.0, 165.0],\n",
       " [74.0, 228.0],\n",
       " [70.0, 210.0],\n",
       " [73.0, 250.0],\n",
       " [73.0, 191.0],\n",
       " [74.0, 190.0],\n",
       " [77.0, 200.0],\n",
       " [72.0, 215.0],\n",
       " [76.0, 254.0],\n",
       " [73.0, 232.0],\n",
       " [73.0, 180.0],\n",
       " [72.0, 215.0],\n",
       " [74.0, 220.0],\n",
       " [74.0, 180.0],\n",
       " [71.0, 200.0],\n",
       " [72.0, 170.0],\n",
       " [75.0, 195.0],\n",
       " [74.0, 210.0],\n",
       " [74.0, 200.0],\n",
       " [77.0, 220.0],\n",
       " [70.0, 165.0],\n",
       " [71.0, 180.0],\n",
       " [73.0, 200.0],\n",
       " [76.0, 200.0],\n",
       " [71.0, 170.0],\n",
       " [75.0, 224.0],\n",
       " [74.0, 220.0],\n",
       " [72.0, 180.0],\n",
       " [76.0, 198.0],\n",
       " [79.0, 240.0],\n",
       " [76.0, 239.0],\n",
       " [73.0, 185.0],\n",
       " [76.0, 210.0],\n",
       " [78.0, 220.0],\n",
       " [75.0, 200.0],\n",
       " [76.0, 195.0],\n",
       " [72.0, 220.0],\n",
       " [72.0, 230.0],\n",
       " [73.0, 170.0],\n",
       " [73.0, 220.0],\n",
       " [75.0, 230.0],\n",
       " [71.0, 165.0],\n",
       " [76.0, 205.0],\n",
       " [70.0, 192.0],\n",
       " [75.0, 210.0],\n",
       " [74.0, 205.0],\n",
       " [75.0, 200.0],\n",
       " [73.0, 210.0],\n",
       " [71.0, 185.0],\n",
       " [71.0, 195.0],\n",
       " [72.0, 202.0],\n",
       " [73.0, 205.0],\n",
       " [73.0, 195.0],\n",
       " [72.0, 180.0],\n",
       " [69.0, 200.0],\n",
       " [73.0, 185.0],\n",
       " [78.0, 240.0],\n",
       " [71.0, 185.0],\n",
       " [73.0, 220.0],\n",
       " [75.0, 205.0],\n",
       " [76.0, 205.0],\n",
       " [70.0, 180.0],\n",
       " [74.0, 201.0],\n",
       " [77.0, 190.0],\n",
       " [75.0, 208.0],\n",
       " [79.0, 240.0],\n",
       " [72.0, 204.0],\n",
       " [72.0, 180.0],\n",
       " [77.0, 230.0],\n",
       " [73.0, 195.0],\n",
       " [75.0, 215.0],\n",
       " [75.0, 190.0],\n",
       " [75.0, 195.0],\n",
       " [73.0, 215.0],\n",
       " [73.0, 215.0],\n",
       " [76.0, 220.0],\n",
       " [77.0, 220.0],\n",
       " [75.0, 230.0],\n",
       " [70.0, 195.0],\n",
       " [71.0, 190.0],\n",
       " [71.0, 195.0],\n",
       " [75.0, 209.0],\n",
       " [74.0, 204.0],\n",
       " [69.0, 170.0],\n",
       " [70.0, 185.0],\n",
       " [75.0, 205.0],\n",
       " [72.0, 175.0],\n",
       " [75.0, 210.0],\n",
       " [73.0, 190.0],\n",
       " [72.0, 180.0],\n",
       " [72.0, 180.0],\n",
       " [72.0, 160.0],\n",
       " [76.0, 235.0],\n",
       " [75.0, 200.0],\n",
       " [74.0, 210.0],\n",
       " [75.0, 224.0],\n",
       " [69.0, 180.0],\n",
       " [73.0, 190.0],\n",
       " [72.0, 197.0],\n",
       " [72.0, 203.0],\n",
       " [75.0, 205.0],\n",
       " [77.0, 170.0],\n",
       " [76.0, 200.0],\n",
       " [80.0, 250.0],\n",
       " [77.0, 200.0],\n",
       " [76.0, 220.0],\n",
       " [79.0, 200.0],\n",
       " [71.0, 190.0],\n",
       " [75.0, 170.0],\n",
       " [73.0, 190.0],\n",
       " [76.0, 220.0],\n",
       " [77.0, 215.0],\n",
       " [73.0, 206.0],\n",
       " [76.0, 215.0],\n",
       " [70.0, 185.0],\n",
       " [75.0, 235.0],\n",
       " [73.0, 188.0],\n",
       " [75.0, 230.0],\n",
       " [70.0, 195.0],\n",
       " [69.0, 168.0],\n",
       " [71.0, 190.0],\n",
       " [72.0, 160.0],\n",
       " [72.0, 200.0],\n",
       " [73.0, 200.0],\n",
       " [70.0, 189.0],\n",
       " [70.0, 180.0],\n",
       " [73.0, 190.0],\n",
       " [76.0, 200.0],\n",
       " [75.0, 220.0],\n",
       " [72.0, 187.0],\n",
       " [73.0, 240.0],\n",
       " [79.0, 190.0],\n",
       " [71.0, 180.0],\n",
       " [72.0, 185.0],\n",
       " [74.0, 210.0],\n",
       " [74.0, 220.0],\n",
       " [74.0, 219.0],\n",
       " [72.0, 190.0],\n",
       " [76.0, 193.0],\n",
       " [76.0, 175.0],\n",
       " [72.0, 180.0],\n",
       " [72.0, 215.0],\n",
       " [71.0, 210.0],\n",
       " [72.0, 200.0],\n",
       " [72.0, 190.0],\n",
       " [70.0, 185.0],\n",
       " [77.0, 220.0],\n",
       " [74.0, 170.0],\n",
       " [72.0, 195.0],\n",
       " [76.0, 205.0],\n",
       " [71.0, 195.0],\n",
       " [76.0, 210.0],\n",
       " [71.0, 190.0],\n",
       " [73.0, 190.0],\n",
       " [70.0, 180.0],\n",
       " [73.0, 220.0],\n",
       " [73.0, 190.0],\n",
       " [72.0, 186.0],\n",
       " [71.0, 185.0],\n",
       " [71.0, 190.0],\n",
       " [71.0, 180.0],\n",
       " [72.0, 190.0],\n",
       " [72.0, 170.0],\n",
       " [74.0, 210.0],\n",
       " [74.0, 240.0],\n",
       " [74.0, 220.0],\n",
       " [71.0, 180.0],\n",
       " [72.0, 210.0],\n",
       " [75.0, 210.0],\n",
       " [72.0, 195.0],\n",
       " [71.0, 160.0],\n",
       " [72.0, 180.0],\n",
       " [72.0, 205.0],\n",
       " [72.0, 200.0],\n",
       " [72.0, 185.0],\n",
       " [74.0, 245.0],\n",
       " [74.0, 190.0],\n",
       " [77.0, 210.0],\n",
       " [75.0, 200.0],\n",
       " [73.0, 200.0],\n",
       " [75.0, 222.0],\n",
       " [73.0, 215.0],\n",
       " [76.0, 240.0],\n",
       " [72.0, 170.0],\n",
       " [77.0, 220.0],\n",
       " [75.0, 156.0],\n",
       " [72.0, 190.0],\n",
       " [71.0, 202.0],\n",
       " [71.0, 221.0],\n",
       " [75.0, 200.0],\n",
       " [72.0, 190.0],\n",
       " [73.0, 210.0],\n",
       " [73.0, 190.0],\n",
       " [71.0, 200.0],\n",
       " [70.0, 165.0],\n",
       " [75.0, 190.0],\n",
       " [71.0, 185.0],\n",
       " [76.0, 230.0],\n",
       " [73.0, 208.0],\n",
       " [68.0, 209.0],\n",
       " [71.0, 175.0],\n",
       " [72.0, 180.0],\n",
       " [74.0, 200.0],\n",
       " [77.0, 205.0],\n",
       " [72.0, 200.0],\n",
       " [76.0, 250.0],\n",
       " [78.0, 210.0],\n",
       " [81.0, 230.0],\n",
       " [72.0, 244.0],\n",
       " [73.0, 202.0],\n",
       " [76.0, 240.0],\n",
       " [72.0, 200.0],\n",
       " [72.0, 215.0],\n",
       " [74.0, 177.0],\n",
       " [76.0, 210.0],\n",
       " [73.0, 170.0],\n",
       " [76.0, 215.0],\n",
       " [75.0, 217.0],\n",
       " [70.0, 198.0],\n",
       " [71.0, 200.0],\n",
       " [74.0, 220.0],\n",
       " [72.0, 170.0],\n",
       " [73.0, 200.0],\n",
       " [76.0, 230.0],\n",
       " [76.0, 231.0],\n",
       " [73.0, 183.0],\n",
       " [71.0, 192.0],\n",
       " [68.0, 167.0],\n",
       " [71.0, 190.0],\n",
       " [71.0, 180.0],\n",
       " [74.0, 180.0],\n",
       " [77.0, 215.0],\n",
       " [69.0, 160.0],\n",
       " [72.0, 205.0],\n",
       " [76.0, 223.0],\n",
       " [73.0, 205.0],\n",
       " [75.0, 175.0],\n",
       " [76.0, 170.0],\n",
       " [75.0, 190.0],\n",
       " [76.0, 240.0],\n",
       " [72.0, 175.0],\n",
       " [74.0, 230.0],\n",
       " [76.0, 223.0],\n",
       " [74.0, 196.0],\n",
       " [72.0, 167.0],\n",
       " [75.0, 195.0],\n",
       " [78.0, 190.0],\n",
       " [77.0, 250.0],\n",
       " [70.0, 190.0],\n",
       " [72.0, 190.0],\n",
       " [79.0, 190.0],\n",
       " [74.0, 170.0],\n",
       " [71.0, 160.0],\n",
       " [68.0, 150.0],\n",
       " [77.0, 225.0],\n",
       " [75.0, 220.0],\n",
       " [71.0, 209.0],\n",
       " [72.0, 210.0],\n",
       " [70.0, 176.0],\n",
       " [72.0, 260.0],\n",
       " [72.0, 195.0],\n",
       " [73.0, 190.0],\n",
       " [72.0, 184.0],\n",
       " [74.0, 180.0],\n",
       " [72.0, 195.0],\n",
       " [72.0, 195.0],\n",
       " [75.0, 219.0],\n",
       " [72.0, 225.0],\n",
       " [73.0, 212.0],\n",
       " [74.0, 202.0],\n",
       " [72.0, 185.0],\n",
       " [78.0, 200.0],\n",
       " [75.0, 209.0],\n",
       " [72.0, 200.0],\n",
       " [74.0, 195.0],\n",
       " [75.0, 228.0],\n",
       " [75.0, 210.0],\n",
       " [76.0, 190.0],\n",
       " [74.0, 212.0],\n",
       " [74.0, 190.0],\n",
       " [73.0, 218.0],\n",
       " [74.0, 220.0],\n",
       " [71.0, 190.0],\n",
       " [74.0, 235.0],\n",
       " [75.0, 210.0],\n",
       " [76.0, 200.0],\n",
       " [74.0, 188.0],\n",
       " [76.0, 210.0],\n",
       " [76.0, 235.0],\n",
       " [73.0, 188.0],\n",
       " [75.0, 215.0],\n",
       " [75.0, 216.0],\n",
       " [74.0, 220.0],\n",
       " [68.0, 180.0],\n",
       " [72.0, 185.0],\n",
       " [75.0, 200.0],\n",
       " [71.0, 210.0],\n",
       " [70.0, 220.0],\n",
       " [72.0, 185.0],\n",
       " [73.0, 231.0],\n",
       " [72.0, 210.0],\n",
       " [75.0, 195.0],\n",
       " [74.0, 200.0],\n",
       " [70.0, 205.0],\n",
       " [73.0, 200.0],\n",
       " [76.0, 200.0],\n",
       " [71.0, 190.0],\n",
       " [82.0, 250.0],\n",
       " [72.0, 185.0],\n",
       " [73.0, 180.0],\n",
       " [74.0, 170.0],\n",
       " [71.0, 180.0],\n",
       " [75.0, 208.0],\n",
       " [77.0, 235.0],\n",
       " [72.0, 215.0],\n",
       " [74.0, 244.0],\n",
       " [72.0, 220.0],\n",
       " [73.0, 185.0],\n",
       " [78.0, 230.0],\n",
       " [77.0, 190.0],\n",
       " [73.0, 200.0],\n",
       " [73.0, 180.0],\n",
       " [73.0, 190.0],\n",
       " [73.0, 196.0],\n",
       " [73.0, 180.0],\n",
       " [76.0, 230.0],\n",
       " [75.0, 224.0],\n",
       " [70.0, 160.0],\n",
       " [73.0, 178.0],\n",
       " [72.0, 205.0],\n",
       " [73.0, 185.0],\n",
       " [75.0, 210.0],\n",
       " [74.0, 180.0],\n",
       " [73.0, 190.0],\n",
       " [73.0, 200.0],\n",
       " [76.0, 257.0],\n",
       " [73.0, 190.0],\n",
       " [75.0, 220.0],\n",
       " [70.0, 165.0],\n",
       " [77.0, 205.0],\n",
       " [72.0, 200.0],\n",
       " [77.0, 208.0],\n",
       " [74.0, 185.0],\n",
       " [75.0, 215.0],\n",
       " [75.0, 170.0],\n",
       " [75.0, 235.0],\n",
       " [75.0, 210.0],\n",
       " [72.0, 170.0],\n",
       " [74.0, 180.0],\n",
       " [71.0, 170.0],\n",
       " [76.0, 190.0],\n",
       " [71.0, 150.0],\n",
       " [75.0, 230.0],\n",
       " [76.0, 203.0],\n",
       " [83.0, 260.0],\n",
       " [75.0, 246.0],\n",
       " [74.0, 186.0],\n",
       " [76.0, 210.0],\n",
       " [72.0, 198.0],\n",
       " [72.0, 210.0],\n",
       " [75.0, 215.0],\n",
       " [75.0, 180.0],\n",
       " [72.0, 200.0],\n",
       " [77.0, 245.0],\n",
       " [73.0, 200.0],\n",
       " [72.0, 192.0],\n",
       " [70.0, 192.0],\n",
       " [74.0, 200.0],\n",
       " [72.0, 192.0],\n",
       " [74.0, 205.0],\n",
       " [72.0, 190.0],\n",
       " [71.0, 186.0],\n",
       " [70.0, 170.0],\n",
       " [71.0, 197.0],\n",
       " [76.0, 219.0],\n",
       " [74.0, 200.0],\n",
       " [76.0, 220.0],\n",
       " [74.0, 207.0],\n",
       " [74.0, 225.0],\n",
       " [74.0, 207.0],\n",
       " [75.0, 212.0],\n",
       " [75.0, 225.0],\n",
       " [71.0, 170.0],\n",
       " [71.0, 190.0],\n",
       " [74.0, 210.0],\n",
       " [77.0, 230.0],\n",
       " [71.0, 210.0],\n",
       " [74.0, 200.0],\n",
       " [75.0, 238.0],\n",
       " [77.0, 234.0],\n",
       " [76.0, 222.0],\n",
       " [74.0, 200.0],\n",
       " [76.0, 190.0],\n",
       " [72.0, 170.0],\n",
       " [71.0, 220.0],\n",
       " [72.0, 223.0],\n",
       " [75.0, 210.0],\n",
       " [73.0, 215.0],\n",
       " [68.0, 196.0],\n",
       " [72.0, 175.0],\n",
       " [69.0, 175.0],\n",
       " [73.0, 189.0],\n",
       " [73.0, 205.0],\n",
       " [75.0, 210.0],\n",
       " [70.0, 180.0],\n",
       " [70.0, 180.0],\n",
       " [74.0, 197.0],\n",
       " [75.0, 220.0],\n",
       " [74.0, 228.0],\n",
       " [74.0, 190.0],\n",
       " [73.0, 204.0],\n",
       " [74.0, 165.0],\n",
       " [75.0, 216.0],\n",
       " [77.0, 220.0],\n",
       " [73.0, 208.0],\n",
       " [74.0, 210.0],\n",
       " [76.0, 215.0],\n",
       " [74.0, 195.0],\n",
       " [75.0, 200.0],\n",
       " [73.0, 215.0],\n",
       " [76.0, 229.0],\n",
       " [78.0, 240.0],\n",
       " [75.0, 207.0],\n",
       " [73.0, 205.0],\n",
       " [77.0, 208.0],\n",
       " [74.0, 185.0],\n",
       " ...]"
      ]
     },
     "execution_count": 86,
     "metadata": {},
     "output_type": "execute_result"
    }
   ],
   "source": [
    "baseball"
   ]
  },
  {
   "cell_type": "markdown",
   "metadata": {},
   "source": [
    "# baseball data in 2D form"
   ]
  },
  {
   "cell_type": "code",
   "execution_count": 87,
   "metadata": {},
   "outputs": [
    {
     "name": "stdout",
     "output_type": "stream",
     "text": [
      "(1034, 2)\n"
     ]
    }
   ],
   "source": [
    "# baseball is available as a regular list of lists\n",
    "\n",
    "# Import numpy package\n",
    "import numpy as np\n",
    "\n",
    "# Create a 2D Numpy array from baseball: np_baseball\n",
    "np_baseball = np.array(baseball)\n",
    "\n",
    "# Print out the shape of np_baseball\n",
    "print(np_baseball.shape)"
   ]
  },
  {
   "cell_type": "markdown",
   "metadata": {},
   "source": [
    "# subsetting 2D Numpy array"
   ]
  },
  {
   "cell_type": "code",
   "execution_count": 88,
   "metadata": {},
   "outputs": [
    {
     "name": "stdout",
     "output_type": "stream",
     "text": [
      "[ 74. 210.]\n",
      "76.0\n"
     ]
    }
   ],
   "source": [
    "# baseball is available as a regular list of lists\n",
    "\n",
    "# Import numpy package\n",
    "import numpy as np\n",
    "\n",
    "# Create np_baseball (2 cols)\n",
    "np_baseball = np.array(baseball)\n",
    "\n",
    "# Print out the 50th row of np_baseball\n",
    "print(np_baseball[49,:])\n",
    "\n",
    "# Select the entire second column of np_baseball: np_weight\n",
    "np_weight_lb = np_baseball[:,1]\n",
    "\n",
    "# Print out height of 124th player\n",
    "print(np_baseball[123,0])"
   ]
  },
  {
   "cell_type": "markdown",
   "metadata": {},
   "source": [
    "# 2D Arithmetic"
   ]
  },
  {
   "cell_type": "code",
   "execution_count": 89,
   "metadata": {},
   "outputs": [],
   "source": [
    "baseball_df = mlb[[mlb.columns[3],mlb.columns[4],mlb.columns[5]]]\n",
    "baseball = baseball_df.values.tolist()"
   ]
  },
  {
   "cell_type": "code",
   "execution_count": 90,
   "metadata": {},
   "outputs": [
    {
     "name": "stdout",
     "output_type": "stream",
     "text": [
      "[[ 1.8796  81.64656 22.99   ]\n",
      " [ 1.8796  97.52228 34.69   ]\n",
      " [ 1.8288  95.25432 30.78   ]\n",
      " ...\n",
      " [ 1.905   92.98636 25.19   ]\n",
      " [ 1.905   86.18248 31.01   ]\n",
      " [ 1.8542  88.45044 27.92   ]]\n"
     ]
    }
   ],
   "source": [
    "# baseball is available as a regular list of lists\n",
    "# update is available as 2D Numpy array\n",
    "\n",
    "# Import numpy package\n",
    "import numpy as np\n",
    "\n",
    "# Create np_baseball (3 cols)\n",
    "np_baseball = np.array(baseball)\n",
    "\n",
    "# Print out addition of np_baseball and update\n",
    "#print(np_baseball + updated)\n",
    "\n",
    "# Create Numpy array: conversion\n",
    "conversion = np.array([0.0254,0.453592,1])\n",
    "\n",
    "# Print out product of np_baseball and conversion\n",
    "print(np_baseball*conversion)"
   ]
  },
  {
   "cell_type": "markdown",
   "metadata": {},
   "source": [
    "# Data Analysis using statistics"
   ]
  },
  {
   "cell_type": "code",
   "execution_count": 91,
   "metadata": {},
   "outputs": [
    {
     "data": {
      "text/plain": [
       "(1034, 3)"
      ]
     },
     "execution_count": 91,
     "metadata": {},
     "output_type": "execute_result"
    }
   ],
   "source": [
    "np_baseball.shape"
   ]
  },
  {
   "cell_type": "code",
   "execution_count": 92,
   "metadata": {},
   "outputs": [
    {
     "data": {
      "text/plain": [
       "73.6972920696325"
      ]
     },
     "execution_count": 92,
     "metadata": {},
     "output_type": "execute_result"
    }
   ],
   "source": [
    "np.mean(np_baseball[:,0])"
   ]
  },
  {
   "cell_type": "code",
   "execution_count": 93,
   "metadata": {},
   "outputs": [
    {
     "data": {
      "text/plain": [
       "201.69148936170214"
      ]
     },
     "execution_count": 93,
     "metadata": {},
     "output_type": "execute_result"
    }
   ],
   "source": [
    "np.mean(np_baseball[:,1])"
   ]
  },
  {
   "cell_type": "code",
   "execution_count": 94,
   "metadata": {},
   "outputs": [
    {
     "data": {
      "text/plain": [
       "28.736711798839462"
      ]
     },
     "execution_count": 94,
     "metadata": {},
     "output_type": "execute_result"
    }
   ],
   "source": [
    "np.mean(np_baseball[:,2])"
   ]
  },
  {
   "cell_type": "code",
   "execution_count": 95,
   "metadata": {},
   "outputs": [
    {
     "data": {
      "text/plain": [
       "74.0"
      ]
     },
     "execution_count": 95,
     "metadata": {},
     "output_type": "execute_result"
    }
   ],
   "source": [
    "np.median(np_baseball[:,0])"
   ]
  },
  {
   "cell_type": "code",
   "execution_count": 96,
   "metadata": {},
   "outputs": [
    {
     "data": {
      "text/plain": [
       "200.0"
      ]
     },
     "execution_count": 96,
     "metadata": {},
     "output_type": "execute_result"
    }
   ],
   "source": [
    "np.median(np_baseball[:,1])"
   ]
  },
  {
   "cell_type": "code",
   "execution_count": 97,
   "metadata": {},
   "outputs": [
    {
     "data": {
      "text/plain": [
       "27.925"
      ]
     },
     "execution_count": 97,
     "metadata": {},
     "output_type": "execute_result"
    }
   ],
   "source": [
    "np.median(np_baseball[:,2])"
   ]
  },
  {
   "cell_type": "code",
   "execution_count": 98,
   "metadata": {},
   "outputs": [
    {
     "data": {
      "text/plain": [
       "array([[1.        , 0.53166462],\n",
       "       [0.53166462, 1.        ]])"
      ]
     },
     "execution_count": 98,
     "metadata": {},
     "output_type": "execute_result"
    }
   ],
   "source": [
    "np.corrcoef(np_baseball[:,0], np_baseball[:,1])"
   ]
  },
  {
   "cell_type": "code",
   "execution_count": 99,
   "metadata": {},
   "outputs": [
    {
     "data": {
      "text/plain": [
       "20.97130269805308"
      ]
     },
     "execution_count": 99,
     "metadata": {},
     "output_type": "execute_result"
    }
   ],
   "source": [
    "np.std(np_baseball[:,1])"
   ]
  },
  {
   "cell_type": "code",
   "execution_count": 100,
   "metadata": {},
   "outputs": [
    {
     "data": {
      "text/plain": [
       "array([150., 150., 150., ..., 275., 278., 290.])"
      ]
     },
     "execution_count": 100,
     "metadata": {},
     "output_type": "execute_result"
    }
   ],
   "source": [
    "np.sort(np_baseball[:,1])"
   ]
  },
  {
   "cell_type": "markdown",
   "metadata": {},
   "source": [
    "# To check the speed of numpy\n",
    "\n",
    "## Generate data"
   ]
  },
  {
   "cell_type": "code",
   "execution_count": 101,
   "metadata": {},
   "outputs": [],
   "source": [
    "height = np.round(np.random.normal(1.75,2.0,5000),2)\n",
    "weight = np.round(np.random.normal(60.32,15,5000),2)"
   ]
  },
  {
   "cell_type": "markdown",
   "metadata": {},
   "source": [
    "# Average vs median"
   ]
  },
  {
   "cell_type": "code",
   "execution_count": 102,
   "metadata": {},
   "outputs": [
    {
     "name": "stdout",
     "output_type": "stream",
     "text": [
      "73.6972920696325\n",
      "74.0\n"
     ]
    }
   ],
   "source": [
    "# np_baseball is available\n",
    "\n",
    "# Import numpy\n",
    "import numpy as np\n",
    "\n",
    "# Create np_height from np_baseball\n",
    "np_height_in = np_baseball[:,0]\n",
    "\n",
    "# Print out the mean of np_height\n",
    "print(np.mean(np_height_in))\n",
    "\n",
    "# Print out the median of np_height\n",
    "print(np.median(np_height_in))"
   ]
  },
  {
   "cell_type": "markdown",
   "metadata": {},
   "source": [
    "# Explore the baseball data"
   ]
  },
  {
   "cell_type": "code",
   "execution_count": 103,
   "metadata": {},
   "outputs": [
    {
     "name": "stdout",
     "output_type": "stream",
     "text": [
      "Average: 73.6972920696325\n",
      "Median: 74.0\n",
      "Standard Deviation: 2.304703041620148\n",
      "Correlation: [[1.         0.53166462]\n",
      " [0.53166462 1.        ]]\n"
     ]
    }
   ],
   "source": [
    "# np_baseball is available\n",
    "\n",
    "# Import numpy\n",
    "import numpy as np\n",
    "\n",
    "# Print mean height (first column)\n",
    "avg = np.mean(np_baseball[:,0])\n",
    "print(\"Average: \" + str(avg))\n",
    "\n",
    "# Print median height. Replace 'None'\n",
    "med = np.median(np_baseball[:,0])\n",
    "print(\"Median: \" + str(med))\n",
    "\n",
    "# Print out the standard deviation on height. Replace 'None'\n",
    "stddev = np.std(np_baseball[:,0])\n",
    "print(\"Standard Deviation: \" + str(stddev))\n",
    "\n",
    "# Print out correlation between first and second column. Replace 'None'\n",
    "corr = np.corrcoef(np_baseball[:,0],np_baseball[:,1])\n",
    "print(\"Correlation: \" + str(corr))"
   ]
  },
  {
   "cell_type": "markdown",
   "metadata": {},
   "source": [
    "# Blend it all together"
   ]
  },
  {
   "cell_type": "code",
   "execution_count": 104,
   "metadata": {},
   "outputs": [
    {
     "data": {
      "text/html": [
       "<div>\n",
       "<style scoped>\n",
       "    .dataframe tbody tr th:only-of-type {\n",
       "        vertical-align: middle;\n",
       "    }\n",
       "\n",
       "    .dataframe tbody tr th {\n",
       "        vertical-align: top;\n",
       "    }\n",
       "\n",
       "    .dataframe thead th {\n",
       "        text-align: right;\n",
       "    }\n",
       "</style>\n",
       "<table border=\"1\" class=\"dataframe\">\n",
       "  <thead>\n",
       "    <tr style=\"text-align: right;\">\n",
       "      <th></th>\n",
       "      <th>id</th>\n",
       "      <th>name</th>\n",
       "      <th>rating</th>\n",
       "      <th>position</th>\n",
       "      <th>height</th>\n",
       "      <th>foot</th>\n",
       "      <th>rare</th>\n",
       "      <th>pace</th>\n",
       "      <th>shooting</th>\n",
       "      <th>passing</th>\n",
       "      <th>dribbling</th>\n",
       "      <th>defending</th>\n",
       "      <th>heading</th>\n",
       "      <th>diving</th>\n",
       "      <th>handling</th>\n",
       "      <th>kicking</th>\n",
       "      <th>reflexes</th>\n",
       "      <th>speed</th>\n",
       "      <th>positioning</th>\n",
       "    </tr>\n",
       "  </thead>\n",
       "  <tbody>\n",
       "    <tr>\n",
       "      <th>0</th>\n",
       "      <td>1001</td>\n",
       "      <td>Gábor Király</td>\n",
       "      <td>69</td>\n",
       "      <td>GK</td>\n",
       "      <td>191</td>\n",
       "      <td>Right</td>\n",
       "      <td>0</td>\n",
       "      <td></td>\n",
       "      <td></td>\n",
       "      <td></td>\n",
       "      <td></td>\n",
       "      <td></td>\n",
       "      <td></td>\n",
       "      <td>70</td>\n",
       "      <td>66</td>\n",
       "      <td>63</td>\n",
       "      <td>74</td>\n",
       "      <td>35</td>\n",
       "      <td>66.0</td>\n",
       "    </tr>\n",
       "    <tr>\n",
       "      <th>1</th>\n",
       "      <td>100143</td>\n",
       "      <td>Frederik Boi</td>\n",
       "      <td>65</td>\n",
       "      <td>M</td>\n",
       "      <td>184</td>\n",
       "      <td>Right</td>\n",
       "      <td>0</td>\n",
       "      <td>61</td>\n",
       "      <td>65</td>\n",
       "      <td>63</td>\n",
       "      <td>59</td>\n",
       "      <td>62</td>\n",
       "      <td>62</td>\n",
       "      <td></td>\n",
       "      <td></td>\n",
       "      <td></td>\n",
       "      <td></td>\n",
       "      <td></td>\n",
       "      <td>NaN</td>\n",
       "    </tr>\n",
       "    <tr>\n",
       "      <th>2</th>\n",
       "      <td>100264</td>\n",
       "      <td>Tomasz Szewczuk</td>\n",
       "      <td>57</td>\n",
       "      <td>A</td>\n",
       "      <td>185</td>\n",
       "      <td>Right</td>\n",
       "      <td>0</td>\n",
       "      <td>65</td>\n",
       "      <td>54</td>\n",
       "      <td>43</td>\n",
       "      <td>53</td>\n",
       "      <td>55</td>\n",
       "      <td>74</td>\n",
       "      <td></td>\n",
       "      <td></td>\n",
       "      <td></td>\n",
       "      <td></td>\n",
       "      <td></td>\n",
       "      <td>NaN</td>\n",
       "    </tr>\n",
       "    <tr>\n",
       "      <th>3</th>\n",
       "      <td>100325</td>\n",
       "      <td>Steeve Joseph-Reinette</td>\n",
       "      <td>63</td>\n",
       "      <td>D</td>\n",
       "      <td>180</td>\n",
       "      <td>Left</td>\n",
       "      <td>0</td>\n",
       "      <td>68</td>\n",
       "      <td>38</td>\n",
       "      <td>51</td>\n",
       "      <td>46</td>\n",
       "      <td>64</td>\n",
       "      <td>71</td>\n",
       "      <td></td>\n",
       "      <td></td>\n",
       "      <td></td>\n",
       "      <td></td>\n",
       "      <td></td>\n",
       "      <td>NaN</td>\n",
       "    </tr>\n",
       "    <tr>\n",
       "      <th>4</th>\n",
       "      <td>100326</td>\n",
       "      <td>Kamel Chafni</td>\n",
       "      <td>72</td>\n",
       "      <td>M</td>\n",
       "      <td>181</td>\n",
       "      <td>Right</td>\n",
       "      <td>0</td>\n",
       "      <td>75</td>\n",
       "      <td>64</td>\n",
       "      <td>67</td>\n",
       "      <td>72</td>\n",
       "      <td>57</td>\n",
       "      <td>66</td>\n",
       "      <td></td>\n",
       "      <td></td>\n",
       "      <td></td>\n",
       "      <td></td>\n",
       "      <td></td>\n",
       "      <td>NaN</td>\n",
       "    </tr>\n",
       "  </tbody>\n",
       "</table>\n",
       "</div>"
      ],
      "text/plain": [
       "       id                     name   rating  position   height    foot   rare  \\\n",
       "0    1001             Gábor Király       69        GK      191   Right      0   \n",
       "1  100143             Frederik Boi       65         M      184   Right      0   \n",
       "2  100264          Tomasz Szewczuk       57         A      185   Right      0   \n",
       "3  100325   Steeve Joseph-Reinette       63         D      180    Left      0   \n",
       "4  100326             Kamel Chafni       72         M      181   Right      0   \n",
       "\n",
       "   pace  shooting  passing  dribbling  defending  heading  diving  handling  \\\n",
       "0                                                              70        66   \n",
       "1    61        65       63         59         62       62                     \n",
       "2    65        54       43         53         55       74                     \n",
       "3    68        38       51         46         64       71                     \n",
       "4    75        64       67         72         57       66                     \n",
       "\n",
       "   kicking  reflexes  speed   positioning  \n",
       "0       63        74     35          66.0  \n",
       "1                                     NaN  \n",
       "2                                     NaN  \n",
       "3                                     NaN  \n",
       "4                                     NaN  "
      ]
     },
     "execution_count": 104,
     "metadata": {},
     "output_type": "execute_result"
    }
   ],
   "source": [
    "fifa = pd.read_csv(\"fifa.csv\")\n",
    "fifa.head()"
   ]
  },
  {
   "cell_type": "code",
   "execution_count": 105,
   "metadata": {},
   "outputs": [],
   "source": [
    "heights = fifa[fifa.columns[4]].values.tolist()\n",
    "positions = fifa[fifa.columns[3]].values.tolist()"
   ]
  },
  {
   "cell_type": "code",
   "execution_count": null,
   "metadata": {},
   "outputs": [],
   "source": []
  },
  {
   "cell_type": "code",
   "execution_count": 106,
   "metadata": {},
   "outputs": [
    {
     "name": "stdout",
     "output_type": "stream",
     "text": [
      "Median height of goalkeepers: 188.0\n",
      "Median height of other players: 181.0\n"
     ]
    }
   ],
   "source": [
    "# heights and positions are available as lists\n",
    "\n",
    "# Import numpy\n",
    "import numpy as np\n",
    "\n",
    "# Convert positions and heights to numpy arrays: np_positions, np_heights\n",
    "np_heights = np.array(heights)\n",
    "np_positions = np.array(positions)\n",
    "\n",
    "# Heights of the goalkeepers: gk_heights\n",
    "gk_heights = np_heights[np_positions == ' GK']\n",
    "\n",
    "# Heights of the other players: other_heights\n",
    "other_heights = np_heights[np_positions != ' GK']\n",
    "\n",
    "# Print out the median height of goalkeepers. Replace 'None'\n",
    "print(\"Median height of goalkeepers: \" + str(np.median(gk_heights)))\n",
    "\n",
    "# Print out the median height of other players. Replace 'None'\n",
    "print(\"Median height of other players: \" + str(np.median(other_heights)))"
   ]
  },
  {
   "cell_type": "code",
   "execution_count": null,
   "metadata": {},
   "outputs": [],
   "source": []
  },
  {
   "cell_type": "code",
   "execution_count": null,
   "metadata": {},
   "outputs": [],
   "source": []
  }
 ],
 "metadata": {
  "kernelspec": {
   "display_name": "Python 3",
   "language": "python",
   "name": "python3"
  },
  "language_info": {
   "codemirror_mode": {
    "name": "ipython",
    "version": 3
   },
   "file_extension": ".py",
   "mimetype": "text/x-python",
   "name": "python",
   "nbconvert_exporter": "python",
   "pygments_lexer": "ipython3",
   "version": "3.6.5"
  }
 },
 "nbformat": 4,
 "nbformat_minor": 2
}
